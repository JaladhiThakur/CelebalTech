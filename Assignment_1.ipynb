{
  "nbformat": 4,
  "nbformat_minor": 0,
  "metadata": {
    "colab": {
      "name": "Assignment 1.ipynb",
      "provenance": []
    },
    "kernelspec": {
      "name": "python3",
      "display_name": "Python 3"
    }
  },
  "cells": [
    {
      "cell_type": "code",
      "metadata": {
        "id": "4WIs8pdWTcfE"
      },
      "source": [
        "import numpy as np\r\n",
        "import pandas as pd\r\n",
        "import matplotlib.pyplot as plt\r\n",
        "import seaborn as sns\r\n",
        "import warnings\r\n",
        "warnings.filterwarnings(\"ignore\")"
      ],
      "execution_count": 1,
      "outputs": []
    },
    {
      "cell_type": "code",
      "metadata": {
        "id": "-kPieFXCiGQ8"
      },
      "source": [
        "data=pd.read_excel(\"/content/drive/MyDrive/Celebal Tech/Assignment 1/Agent_Routing.xlsx\")"
      ],
      "execution_count": 2,
      "outputs": []
    },
    {
      "cell_type": "code",
      "metadata": {
        "id": "3wneZKM0lxSJ"
      },
      "source": [
        "data.drop('Unnamed: 0',axis=1,inplace=True)"
      ],
      "execution_count": 3,
      "outputs": []
    },
    {
      "cell_type": "code",
      "metadata": {
        "colab": {
          "base_uri": "https://localhost:8080/",
          "height": 467
        },
        "id": "3vdf6FGdl_gG",
        "outputId": "a4fa9bec-cc38-48ed-d722-0425a67365fa"
      },
      "source": [
        "data.head()"
      ],
      "execution_count": 4,
      "outputs": [
        {
          "output_type": "execute_result",
          "data": {
            "text/html": [
              "<div>\n",
              "<style scoped>\n",
              "    .dataframe tbody tr th:only-of-type {\n",
              "        vertical-align: middle;\n",
              "    }\n",
              "\n",
              "    .dataframe tbody tr th {\n",
              "        vertical-align: top;\n",
              "    }\n",
              "\n",
              "    .dataframe thead th {\n",
              "        text-align: right;\n",
              "    }\n",
              "</style>\n",
              "<table border=\"1\" class=\"dataframe\">\n",
              "  <thead>\n",
              "    <tr style=\"text-align: right;\">\n",
              "      <th></th>\n",
              "      <th>Call_Id</th>\n",
              "      <th>CE_Id</th>\n",
              "      <th>CE_Age</th>\n",
              "      <th>CE_Language</th>\n",
              "      <th>CE_Experties</th>\n",
              "      <th>CE_Total_Handled_Leads</th>\n",
              "      <th>CE_Successful_Leads</th>\n",
              "      <th>C_Language</th>\n",
              "      <th>C_Timeperiod_months</th>\n",
              "      <th>C_Field</th>\n",
              "      <th>C_Times_Call</th>\n",
              "      <th>C_Products_Subscribed</th>\n",
              "      <th>C_Premium_Products_Subscribed</th>\n",
              "      <th>C_Call_On_Same_Topic</th>\n",
              "      <th>C_Default_Premium</th>\n",
              "      <th>Call_Duration_Sec</th>\n",
              "      <th>Converted</th>\n",
              "    </tr>\n",
              "  </thead>\n",
              "  <tbody>\n",
              "    <tr>\n",
              "      <th>0</th>\n",
              "      <td>0</td>\n",
              "      <td>4726</td>\n",
              "      <td>36</td>\n",
              "      <td>Hindi</td>\n",
              "      <td>['Education Insurance', 'Health Insurance']</td>\n",
              "      <td>97</td>\n",
              "      <td>2</td>\n",
              "      <td>Hindi</td>\n",
              "      <td>9</td>\n",
              "      <td>Life Insurance</td>\n",
              "      <td>14.294206</td>\n",
              "      <td>3</td>\n",
              "      <td>1</td>\n",
              "      <td>0</td>\n",
              "      <td>3</td>\n",
              "      <td>632.998115</td>\n",
              "      <td>0</td>\n",
              "    </tr>\n",
              "    <tr>\n",
              "      <th>1</th>\n",
              "      <td>1</td>\n",
              "      <td>7854</td>\n",
              "      <td>41</td>\n",
              "      <td>English</td>\n",
              "      <td>['Home Insurance', 'Health Insurance', 'Educat...</td>\n",
              "      <td>83</td>\n",
              "      <td>5</td>\n",
              "      <td>English</td>\n",
              "      <td>45</td>\n",
              "      <td>Car Insurance</td>\n",
              "      <td>29.513318</td>\n",
              "      <td>5</td>\n",
              "      <td>4</td>\n",
              "      <td>3</td>\n",
              "      <td>1</td>\n",
              "      <td>361.490815</td>\n",
              "      <td>0</td>\n",
              "    </tr>\n",
              "    <tr>\n",
              "      <th>2</th>\n",
              "      <td>2</td>\n",
              "      <td>2154</td>\n",
              "      <td>38</td>\n",
              "      <td>English</td>\n",
              "      <td>['Life Insurance', 'Car Insurance']</td>\n",
              "      <td>49</td>\n",
              "      <td>2</td>\n",
              "      <td>English</td>\n",
              "      <td>46</td>\n",
              "      <td>Education Insurance</td>\n",
              "      <td>20.610997</td>\n",
              "      <td>9</td>\n",
              "      <td>3</td>\n",
              "      <td>2</td>\n",
              "      <td>0</td>\n",
              "      <td>603.620661</td>\n",
              "      <td>0</td>\n",
              "    </tr>\n",
              "    <tr>\n",
              "      <th>3</th>\n",
              "      <td>3</td>\n",
              "      <td>7225</td>\n",
              "      <td>21</td>\n",
              "      <td>Urdu</td>\n",
              "      <td>['Life Insurance']</td>\n",
              "      <td>34</td>\n",
              "      <td>2</td>\n",
              "      <td>Urdu</td>\n",
              "      <td>6</td>\n",
              "      <td>Health Insurance</td>\n",
              "      <td>30.240547</td>\n",
              "      <td>18</td>\n",
              "      <td>8</td>\n",
              "      <td>5</td>\n",
              "      <td>0</td>\n",
              "      <td>606.308569</td>\n",
              "      <td>1</td>\n",
              "    </tr>\n",
              "    <tr>\n",
              "      <th>4</th>\n",
              "      <td>4</td>\n",
              "      <td>5409</td>\n",
              "      <td>46</td>\n",
              "      <td>Urdu</td>\n",
              "      <td>['Home Insurance', 'Car Insurance', 'Life Insu...</td>\n",
              "      <td>84</td>\n",
              "      <td>5</td>\n",
              "      <td>Urdu</td>\n",
              "      <td>40</td>\n",
              "      <td>Home Insurance</td>\n",
              "      <td>31.436881</td>\n",
              "      <td>10</td>\n",
              "      <td>7</td>\n",
              "      <td>9</td>\n",
              "      <td>3</td>\n",
              "      <td>527.413442</td>\n",
              "      <td>0</td>\n",
              "    </tr>\n",
              "  </tbody>\n",
              "</table>\n",
              "</div>"
            ],
            "text/plain": [
              "   Call_Id  CE_Id  CE_Age  ... C_Default_Premium Call_Duration_Sec  Converted\n",
              "0        0   4726      36  ...                 3        632.998115          0\n",
              "1        1   7854      41  ...                 1        361.490815          0\n",
              "2        2   2154      38  ...                 0        603.620661          0\n",
              "3        3   7225      21  ...                 0        606.308569          1\n",
              "4        4   5409      46  ...                 3        527.413442          0\n",
              "\n",
              "[5 rows x 17 columns]"
            ]
          },
          "metadata": {
            "tags": []
          },
          "execution_count": 4
        }
      ]
    },
    {
      "cell_type": "code",
      "metadata": {
        "id": "pEAMACiapWVu",
        "colab": {
          "base_uri": "https://localhost:8080/"
        },
        "outputId": "e936c405-b887-40f5-d72e-625aab11b1f4"
      },
      "source": [
        "data.info()"
      ],
      "execution_count": 5,
      "outputs": [
        {
          "output_type": "stream",
          "text": [
            "<class 'pandas.core.frame.DataFrame'>\n",
            "RangeIndex: 1000 entries, 0 to 999\n",
            "Data columns (total 17 columns):\n",
            " #   Column                         Non-Null Count  Dtype  \n",
            "---  ------                         --------------  -----  \n",
            " 0   Call_Id                        1000 non-null   int64  \n",
            " 1   CE_Id                          1000 non-null   int64  \n",
            " 2   CE_Age                         1000 non-null   int64  \n",
            " 3   CE_Language                    1000 non-null   object \n",
            " 4   CE_Experties                   1000 non-null   object \n",
            " 5   CE_Total_Handled_Leads         1000 non-null   int64  \n",
            " 6   CE_Successful_Leads            1000 non-null   int64  \n",
            " 7   C_Language                     1000 non-null   object \n",
            " 8   C_Timeperiod_months            1000 non-null   int64  \n",
            " 9   C_Field                        1000 non-null   object \n",
            " 10  C_Times_Call                   1000 non-null   float64\n",
            " 11  C_Products_Subscribed          1000 non-null   int64  \n",
            " 12  C_Premium_Products_Subscribed  1000 non-null   int64  \n",
            " 13  C_Call_On_Same_Topic           1000 non-null   int64  \n",
            " 14  C_Default_Premium              1000 non-null   int64  \n",
            " 15  Call_Duration_Sec              1000 non-null   float64\n",
            " 16  Converted                      1000 non-null   int64  \n",
            "dtypes: float64(2), int64(11), object(4)\n",
            "memory usage: 132.9+ KB\n"
          ],
          "name": "stdout"
        }
      ]
    },
    {
      "cell_type": "code",
      "metadata": {
        "colab": {
          "base_uri": "https://localhost:8080/",
          "height": 299
        },
        "id": "pZwdgtGh8vwO",
        "outputId": "c271bdd1-f10d-4473-e0bc-93e4342c1a1f"
      },
      "source": [
        "data[\"CE_Id\"].plot.hist(bins=50)\r\n",
        "plt.xlabel(\" CE Id\",fontsize=12)"
      ],
      "execution_count": 6,
      "outputs": [
        {
          "output_type": "execute_result",
          "data": {
            "text/plain": [
              "Text(0.5, 0, ' CE Id')"
            ]
          },
          "metadata": {
            "tags": []
          },
          "execution_count": 6
        },
        {
          "output_type": "display_data",
          "data": {
            "image/png": "[encoded data removed]",
            "text/plain": [
              "<Figure size 432x288 with 1 Axes>"
            ]
          },
          "metadata": {
            "tags": [],
            "needs_background": "light"
          }
        }
      ]
    },
    {
      "cell_type": "code",
      "metadata": {
        "colab": {
          "base_uri": "https://localhost:8080/",
          "height": 299
        },
        "id": "9GyvdsLQ9nyF",
        "outputId": "afc44872-8a5e-4d1f-f581-f62e32592630"
      },
      "source": [
        "data[\"CE_Age\"].plot.hist(bins=50)\r\n",
        "plt.xlabel(\"CE_Age\",fontsize=12)"
      ],
      "execution_count": 7,
      "outputs": [
        {
          "output_type": "execute_result",
          "data": {
            "text/plain": [
              "Text(0.5, 0, 'CE_Age')"
            ]
          },
          "metadata": {
            "tags": []
          },
          "execution_count": 7
        },
        {
          "output_type": "display_data",
          "data": {
            "image/png": "[encoded data removed]",
            "text/plain": [
              "<Figure size 432x288 with 1 Axes>"
            ]
          },
          "metadata": {
            "tags": [],
            "needs_background": "light"
          }
        }
      ]
    },
    {
      "cell_type": "code",
      "metadata": {
        "colab": {
          "base_uri": "https://localhost:8080/",
          "height": 299
        },
        "id": "EnSxPj1Z9spM",
        "outputId": "6ed973a9-bf88-4c8e-e390-73d02147002b"
      },
      "source": [
        "data[\"CE_Total_Handled_Leads\"].plot.hist(bins=50)\r\n",
        "plt.xlabel(\"CE_Total_Handled_Leads\",fontsize=12)"
      ],
      "execution_count": 8,
      "outputs": [
        {
          "output_type": "execute_result",
          "data": {
            "text/plain": [
              "Text(0.5, 0, 'CE_Total_Handled_Leads')"
            ]
          },
          "metadata": {
            "tags": []
          },
          "execution_count": 8
        },
        {
          "output_type": "display_data",
          "data": {
            "image/png": "[encoded data removed]",
            "text/plain": [
              "<Figure size 432x288 with 1 Axes>"
            ]
          },
          "metadata": {
            "tags": [],
            "needs_background": "light"
          }
        }
      ]
    },
    {
      "cell_type": "code",
      "metadata": {
        "colab": {
          "base_uri": "https://localhost:8080/",
          "height": 299
        },
        "id": "OrecQLMD9x4L",
        "outputId": "4ac61d5b-a640-4638-e253-9624b42dadbb"
      },
      "source": [
        "data[\"CE_Successful_Leads\"].plot.hist(bins=50)\r\n",
        "plt.xlabel(\"CE_Successful_Leads\",fontsize=12)"
      ],
      "execution_count": 9,
      "outputs": [
        {
          "output_type": "execute_result",
          "data": {
            "text/plain": [
              "Text(0.5, 0, 'CE_Successful_Leads')"
            ]
          },
          "metadata": {
            "tags": []
          },
          "execution_count": 9
        },
        {
          "output_type": "display_data",
          "data": {
            "image/png": "[encoded data removed]",
            "text/plain": [
              "<Figure size 432x288 with 1 Axes>"
            ]
          },
          "metadata": {
            "tags": [],
            "needs_background": "light"
          }
        }
      ]
    },
    {
      "cell_type": "code",
      "metadata": {
        "colab": {
          "base_uri": "https://localhost:8080/",
          "height": 299
        },
        "id": "ABxCXR4R93N4",
        "outputId": "683fc993-4e2c-45df-9daf-fc1c65c7a998"
      },
      "source": [
        "data[\"C_Timeperiod_months\"].plot.hist(bins=50)\r\n",
        "plt.xlabel(\"C_Timeperiod_months\",fontsize=12)"
      ],
      "execution_count": 10,
      "outputs": [
        {
          "output_type": "execute_result",
          "data": {
            "text/plain": [
              "Text(0.5, 0, 'C_Timeperiod_months')"
            ]
          },
          "metadata": {
            "tags": []
          },
          "execution_count": 10
        },
        {
          "output_type": "display_data",
          "data": {
            "image/png": "[encoded data removed]",
            "text/plain": [
              "<Figure size 432x288 with 1 Axes>"
            ]
          },
          "metadata": {
            "tags": [],
            "needs_background": "light"
          }
        }
      ]
    },
    {
      "cell_type": "code",
      "metadata": {
        "colab": {
          "base_uri": "https://localhost:8080/",
          "height": 299
        },
        "id": "cVAx6dvv97q6",
        "outputId": "ecafe2d7-8c8d-40ab-c524-e8d81191c149"
      },
      "source": [
        "data[\"C_Times_Call\"].plot.hist(bins=50)\r\n",
        "plt.xlabel(\"C_Times_Call\",fontsize=12) #here we can some of the outliers lying here and there which we will remove agter some stage."
      ],
      "execution_count": 11,
      "outputs": [
        {
          "output_type": "execute_result",
          "data": {
            "text/plain": [
              "Text(0.5, 0, 'C_Times_Call')"
            ]
          },
          "metadata": {
            "tags": []
          },
          "execution_count": 11
        },
        {
          "output_type": "display_data",
          "data": {
            "image/png": "[encoded data removed]",
            "text/plain": [
              "<Figure size 432x288 with 1 Axes>"
            ]
          },
          "metadata": {
            "tags": [],
            "needs_background": "light"
          }
        }
      ]
    },
    {
      "cell_type": "code",
      "metadata": {
        "colab": {
          "base_uri": "https://localhost:8080/",
          "height": 299
        },
        "id": "nVjE-1_9-Ds-",
        "outputId": "8044f0c1-9864-4038-dd6b-cd8f87b3ae78"
      },
      "source": [
        "data[\"C_Products_Subscribed\"].plot.hist(bins=50)\r\n",
        "plt.xlabel(\"C_Products_Subscribed\",fontsize=12)"
      ],
      "execution_count": 12,
      "outputs": [
        {
          "output_type": "execute_result",
          "data": {
            "text/plain": [
              "Text(0.5, 0, 'C_Products_Subscribed')"
            ]
          },
          "metadata": {
            "tags": []
          },
          "execution_count": 12
        },
        {
          "output_type": "display_data",
          "data": {
            "image/png": "[encoded data removed]",
            "text/plain": [
              "<Figure size 432x288 with 1 Axes>"
            ]
          },
          "metadata": {
            "tags": [],
            "needs_background": "light"
          }
        }
      ]
    },
    {
      "cell_type": "code",
      "metadata": {
        "colab": {
          "base_uri": "https://localhost:8080/",
          "height": 299
        },
        "id": "ZoOeE_Of-JAb",
        "outputId": "0b7140a6-1d4c-4197-b504-c09b0477df44"
      },
      "source": [
        "data[\"C_Premium_Products_Subscribed\"].plot.hist(bins=50)\r\n",
        "plt.xlabel(\"C_Premium_Products_Subscribed\",fontsize=12)"
      ],
      "execution_count": 13,
      "outputs": [
        {
          "output_type": "execute_result",
          "data": {
            "text/plain": [
              "Text(0.5, 0, 'C_Premium_Products_Subscribed')"
            ]
          },
          "metadata": {
            "tags": []
          },
          "execution_count": 13
        },
        {
          "output_type": "display_data",
          "data": {
            "image/png": "[encoded data removed]",
            "text/plain": [
              "<Figure size 432x288 with 1 Axes>"
            ]
          },
          "metadata": {
            "tags": [],
            "needs_background": "light"
          }
        }
      ]
    },
    {
      "cell_type": "code",
      "metadata": {
        "colab": {
          "base_uri": "https://localhost:8080/",
          "height": 299
        },
        "id": "AxJY6LNW-NFP",
        "outputId": "d50d7321-17d4-4ebe-f848-ca6033aa2891"
      },
      "source": [
        "data[\"C_Call_On_Same_Topic\"].plot.hist(bins=50)\r\n",
        "plt.xlabel(\"C_Call_On_Same_Topic\",fontsize=12)"
      ],
      "execution_count": 14,
      "outputs": [
        {
          "output_type": "execute_result",
          "data": {
            "text/plain": [
              "Text(0.5, 0, 'C_Call_On_Same_Topic')"
            ]
          },
          "metadata": {
            "tags": []
          },
          "execution_count": 14
        },
        {
          "output_type": "display_data",
          "data": {
            "image/png": "[encoded data removed]",
            "text/plain": [
              "<Figure size 432x288 with 1 Axes>"
            ]
          },
          "metadata": {
            "tags": [],
            "needs_background": "light"
          }
        }
      ]
    },
    {
      "cell_type": "code",
      "metadata": {
        "colab": {
          "base_uri": "https://localhost:8080/",
          "height": 300
        },
        "id": "6iKXSlDK-VCS",
        "outputId": "1c8d9ff5-14a9-4555-cb4d-d0c2cdbb3543"
      },
      "source": [
        "data[\"C_Default_Premium\"].plot.hist(bins=50)\r\n",
        "plt.xlabel(\"C_Default_Premium\",fontsize=12)"
      ],
      "execution_count": 15,
      "outputs": [
        {
          "output_type": "execute_result",
          "data": {
            "text/plain": [
              "Text(0.5, 0, 'C_Default_Premium')"
            ]
          },
          "metadata": {
            "tags": []
          },
          "execution_count": 15
        },
        {
          "output_type": "display_data",
          "data": {
            "image/png": "[encoded data removed]",
            "text/plain": [
              "<Figure size 432x288 with 1 Axes>"
            ]
          },
          "metadata": {
            "tags": [],
            "needs_background": "light"
          }
        }
      ]
    },
    {
      "cell_type": "code",
      "metadata": {
        "colab": {
          "base_uri": "https://localhost:8080/",
          "height": 299
        },
        "id": "TFqKfDMw-aX2",
        "outputId": "6813ff60-a133-4f2e-8d63-b88670c50716"
      },
      "source": [
        "data[\"Call_Duration_Sec\"].plot.hist(bins=50)\r\n",
        "plt.xlabel(\"Call_Duration_Sec\",fontsize=12) #here also we can see some of the outliers which needs to be removed afterwards"
      ],
      "execution_count": 16,
      "outputs": [
        {
          "output_type": "execute_result",
          "data": {
            "text/plain": [
              "Text(0.5, 0, 'Call_Duration_Sec')"
            ]
          },
          "metadata": {
            "tags": []
          },
          "execution_count": 16
        },
        {
          "output_type": "display_data",
          "data": {
            "image/png": "[encoded data removed]",
            "text/plain": [
              "<Figure size 432x288 with 1 Axes>"
            ]
          },
          "metadata": {
            "tags": [],
            "needs_background": "light"
          }
        }
      ]
    },
    {
      "cell_type": "code",
      "metadata": {
        "colab": {
          "base_uri": "https://localhost:8080/",
          "height": 299
        },
        "id": "5LT-uUK9-i9D",
        "outputId": "62f8baea-2c46-4440-c76b-a6b30a0b7992"
      },
      "source": [
        "data[\"Converted\"].plot.hist(bins=50)\r\n",
        "plt.xlabel(\"Converted\",fontsize=12) #this is a target variable which needs to be predicted"
      ],
      "execution_count": 17,
      "outputs": [
        {
          "output_type": "execute_result",
          "data": {
            "text/plain": [
              "Text(0.5, 0, 'Converted')"
            ]
          },
          "metadata": {
            "tags": []
          },
          "execution_count": 17
        },
        {
          "output_type": "display_data",
          "data": {
            "image/png": "[encoded data removed]",
            "text/plain": [
              "<Figure size 432x288 with 1 Axes>"
            ]
          },
          "metadata": {
            "tags": [],
            "needs_background": "light"
          }
        }
      ]
    },
    {
      "cell_type": "code",
      "metadata": {
        "colab": {
          "base_uri": "https://localhost:8080/"
        },
        "id": "Fq6d6lfn-uGN",
        "outputId": "952db287-9138-4adb-8ebf-ef9068194efa"
      },
      "source": [
        "data['Converted'].value_counts()"
      ],
      "execution_count": 18,
      "outputs": [
        {
          "output_type": "execute_result",
          "data": {
            "text/plain": [
              "0    684\n",
              "1    316\n",
              "Name: Converted, dtype: int64"
            ]
          },
          "metadata": {
            "tags": []
          },
          "execution_count": 18
        }
      ]
    },
    {
      "cell_type": "code",
      "metadata": {
        "colab": {
          "base_uri": "https://localhost:8080/",
          "height": 296
        },
        "id": "FWH54FoS-zyk",
        "outputId": "e3c84718-1247-4b5e-ac5a-b8b57e4c8d3f"
      },
      "source": [
        "data['Converted'].value_counts().plot.bar()\r\n",
        "plt.xlabel(\"Converted Target Value\",fontsize=12)\r\n",
        "plt.ylabel(\"Count\",fontsize=12)"
      ],
      "execution_count": 19,
      "outputs": [
        {
          "output_type": "execute_result",
          "data": {
            "text/plain": [
              "Text(0, 0.5, 'Count')"
            ]
          },
          "metadata": {
            "tags": []
          },
          "execution_count": 19
        },
        {
          "output_type": "display_data",
          "data": {
            "image/png": "[encoded data removed]",
            "text/plain": [
              "<Figure size 432x288 with 1 Axes>"
            ]
          },
          "metadata": {
            "tags": [],
            "needs_background": "light"
          }
        }
      ]
    },
    {
      "cell_type": "code",
      "metadata": {
        "colab": {
          "base_uri": "https://localhost:8080/",
          "height": 327
        },
        "id": "IRA-KnwI-3QL",
        "outputId": "d95caf54-a14c-4cfa-ee7e-0e48bff72002"
      },
      "source": [
        "#categorical columns\r\n",
        "\r\n",
        "\r\n",
        "data[\"CE_Language\"].value_counts().plot.bar()\r\n",
        "plt.xlabel(\"CE_Language\",fontsize=12)\r\n",
        "plt.ylabel(\"Count\",fontsize=12)"
      ],
      "execution_count": 20,
      "outputs": [
        {
          "output_type": "execute_result",
          "data": {
            "text/plain": [
              "Text(0, 0.5, 'Count')"
            ]
          },
          "metadata": {
            "tags": []
          },
          "execution_count": 20
        },
        {
          "output_type": "display_data",
          "data": {
            "image/png": "[encoded data removed]",
            "text/plain": [
              "<Figure size 432x288 with 1 Axes>"
            ]
          },
          "metadata": {
            "tags": [],
            "needs_background": "light"
          }
        }
      ]
    },
    {
      "cell_type": "code",
      "metadata": {
        "colab": {
          "base_uri": "https://localhost:8080/",
          "height": 296
        },
        "id": "qsi_1uXh_HPv",
        "outputId": "77864f97-ce8d-4e07-e3d0-c06e822c6817"
      },
      "source": [
        "data[\"CE_Successful_Leads\"].value_counts().plot.bar()\r\n",
        "plt.xlabel(\"CE_Successful_Leads\",fontsize=12)\r\n",
        "plt.ylabel(\"Count\",fontsize=12)"
      ],
      "execution_count": 21,
      "outputs": [
        {
          "output_type": "execute_result",
          "data": {
            "text/plain": [
              "Text(0, 0.5, 'Count')"
            ]
          },
          "metadata": {
            "tags": []
          },
          "execution_count": 21
        },
        {
          "output_type": "display_data",
          "data": {
            "image/png": "[encoded data removed]",
            "text/plain": [
              "<Figure size 432x288 with 1 Axes>"
            ]
          },
          "metadata": {
            "tags": [],
            "needs_background": "light"
          }
        }
      ]
    },
    {
      "cell_type": "code",
      "metadata": {
        "colab": {
          "base_uri": "https://localhost:8080/",
          "height": 391
        },
        "id": "U7TjJaj1_M7U",
        "outputId": "ea5eb72c-173d-4d83-e776-57dff29fb804"
      },
      "source": [
        "data[\"C_Field\"].value_counts().plot.bar()\r\n",
        "plt.xlabel(\"C_Field\",fontsize=12)\r\n",
        "plt.ylabel(\"Count\",fontsize=12)"
      ],
      "execution_count": 22,
      "outputs": [
        {
          "output_type": "execute_result",
          "data": {
            "text/plain": [
              "Text(0, 0.5, 'Count')"
            ]
          },
          "metadata": {
            "tags": []
          },
          "execution_count": 22
        },
        {
          "output_type": "display_data",
          "data": {
            "image/png": "[encoded data removed]",
            "text/plain": [
              "<Figure size 432x288 with 1 Axes>"
            ]
          },
          "metadata": {
            "tags": [],
            "needs_background": "light"
          }
        }
      ]
    },
    {
      "cell_type": "code",
      "metadata": {
        "colab": {
          "base_uri": "https://localhost:8080/",
          "height": 302
        },
        "id": "8BtQCSM2_PQc",
        "outputId": "f0d9d240-a5bc-484b-d393-dc11f0281f17"
      },
      "source": [
        "data[\"C_Products_Subscribed\"].value_counts().plot.bar()\r\n",
        "plt.xlabel(\"C_Products_Subscribed\",fontsize=12)\r\n",
        "plt.ylabel(\"Count\",fontsize=12)"
      ],
      "execution_count": 23,
      "outputs": [
        {
          "output_type": "execute_result",
          "data": {
            "text/plain": [
              "Text(0, 0.5, 'Count')"
            ]
          },
          "metadata": {
            "tags": []
          },
          "execution_count": 23
        },
        {
          "output_type": "display_data",
          "data": {
            "image/png": "[encoded data removed]",
            "text/plain": [
              "<Figure size 432x288 with 1 Axes>"
            ]
          },
          "metadata": {
            "tags": [],
            "needs_background": "light"
          }
        }
      ]
    },
    {
      "cell_type": "code",
      "metadata": {
        "colab": {
          "base_uri": "https://localhost:8080/",
          "height": 296
        },
        "id": "JYbgM94f_UZj",
        "outputId": "e543c51f-5342-4ad6-9771-53ea93a20fe5"
      },
      "source": [
        "data[\"C_Premium_Products_Subscribed\"].value_counts().plot.bar()\r\n",
        "plt.xlabel(\"C_Premium_Products_Subscribed\",fontsize=12)\r\n",
        "plt.ylabel(\"Count\",fontsize=12)"
      ],
      "execution_count": 24,
      "outputs": [
        {
          "output_type": "execute_result",
          "data": {
            "text/plain": [
              "Text(0, 0.5, 'Count')"
            ]
          },
          "metadata": {
            "tags": []
          },
          "execution_count": 24
        },
        {
          "output_type": "display_data",
          "data": {
            "image/png": "[encoded data removed]",
            "text/plain": [
              "<Figure size 432x288 with 1 Axes>"
            ]
          },
          "metadata": {
            "tags": [],
            "needs_background": "light"
          }
        }
      ]
    },
    {
      "cell_type": "code",
      "metadata": {
        "colab": {
          "base_uri": "https://localhost:8080/",
          "height": 296
        },
        "id": "-m3nOstH_aCQ",
        "outputId": "ae771d20-5ea5-4ae0-c56f-2a3b9285d849"
      },
      "source": [
        "data[\"C_Call_On_Same_Topic\"].value_counts().plot.bar()\r\n",
        "plt.xlabel(\"C_Call_On_Same_Topic\",fontsize=12)\r\n",
        "plt.ylabel(\"Count\",fontsize=12)"
      ],
      "execution_count": 25,
      "outputs": [
        {
          "output_type": "execute_result",
          "data": {
            "text/plain": [
              "Text(0, 0.5, 'Count')"
            ]
          },
          "metadata": {
            "tags": []
          },
          "execution_count": 25
        },
        {
          "output_type": "display_data",
          "data": {
            "image/png": "[encoded data removed]",
            "text/plain": [
              "<Figure size 432x288 with 1 Axes>"
            ]
          },
          "metadata": {
            "tags": [],
            "needs_background": "light"
          }
        }
      ]
    },
    {
      "cell_type": "code",
      "metadata": {
        "id": "eqgeEEDz_eJj",
        "colab": {
          "base_uri": "https://localhost:8080/",
          "height": 297
        },
        "outputId": "87ba5dc6-22e7-4b4f-ea44-716eff2b64df"
      },
      "source": [
        "data[\"C_Default_Premium\"].value_counts().plot.bar()\r\n",
        "plt.xlabel(\"C_Default_Premium\",fontsize=12)\r\n",
        "plt.ylabel(\"Count\",fontsize=12)"
      ],
      "execution_count": 26,
      "outputs": [
        {
          "output_type": "execute_result",
          "data": {
            "text/plain": [
              "Text(0, 0.5, 'Count')"
            ]
          },
          "metadata": {
            "tags": []
          },
          "execution_count": 26
        },
        {
          "output_type": "display_data",
          "data": {
            "image/png": "[encoded data removed]",
            "text/plain": [
              "<Figure size 432x288 with 1 Axes>"
            ]
          },
          "metadata": {
            "tags": [],
            "needs_background": "light"
          }
        }
      ]
    },
    {
      "cell_type": "code",
      "metadata": {
        "colab": {
          "base_uri": "https://localhost:8080/",
          "height": 965
        },
        "id": "ZHL_1CjL7znG",
        "outputId": "53718178-fdc7-4e12-cda6-04bcc134e224"
      },
      "source": [
        "#bivariate analysis\r\n",
        "\r\n",
        "pd.crosstab(data[\"CE_Age\"],data[\"CE_Language\"])\r\n",
        "\r\n",
        "pd.crosstab(data[\"CE_Age\"],data[\"C_Language\"])\r\n",
        "\r\n",
        "pd.crosstab(data[\"CE_Age\"],data[\"CE_Successful_Leads\"])\r\n",
        "\r\n"
      ],
      "execution_count": 27,
      "outputs": [
        {
          "output_type": "execute_result",
          "data": {
            "text/html": [
              "<div>\n",
              "<style scoped>\n",
              "    .dataframe tbody tr th:only-of-type {\n",
              "        vertical-align: middle;\n",
              "    }\n",
              "\n",
              "    .dataframe tbody tr th {\n",
              "        vertical-align: top;\n",
              "    }\n",
              "\n",
              "    .dataframe thead th {\n",
              "        text-align: right;\n",
              "    }\n",
              "</style>\n",
              "<table border=\"1\" class=\"dataframe\">\n",
              "  <thead>\n",
              "    <tr style=\"text-align: right;\">\n",
              "      <th>CE_Successful_Leads</th>\n",
              "      <th>1</th>\n",
              "      <th>2</th>\n",
              "      <th>3</th>\n",
              "      <th>4</th>\n",
              "      <th>5</th>\n",
              "      <th>6</th>\n",
              "      <th>7</th>\n",
              "      <th>8</th>\n",
              "    </tr>\n",
              "    <tr>\n",
              "      <th>CE_Age</th>\n",
              "      <th></th>\n",
              "      <th></th>\n",
              "      <th></th>\n",
              "      <th></th>\n",
              "      <th></th>\n",
              "      <th></th>\n",
              "      <th></th>\n",
              "      <th></th>\n",
              "    </tr>\n",
              "  </thead>\n",
              "  <tbody>\n",
              "    <tr>\n",
              "      <th>20</th>\n",
              "      <td>14</td>\n",
              "      <td>4</td>\n",
              "      <td>6</td>\n",
              "      <td>3</td>\n",
              "      <td>0</td>\n",
              "      <td>3</td>\n",
              "      <td>0</td>\n",
              "      <td>0</td>\n",
              "    </tr>\n",
              "    <tr>\n",
              "      <th>21</th>\n",
              "      <td>16</td>\n",
              "      <td>7</td>\n",
              "      <td>7</td>\n",
              "      <td>8</td>\n",
              "      <td>1</td>\n",
              "      <td>1</td>\n",
              "      <td>1</td>\n",
              "      <td>1</td>\n",
              "    </tr>\n",
              "    <tr>\n",
              "      <th>22</th>\n",
              "      <td>9</td>\n",
              "      <td>10</td>\n",
              "      <td>5</td>\n",
              "      <td>3</td>\n",
              "      <td>5</td>\n",
              "      <td>0</td>\n",
              "      <td>1</td>\n",
              "      <td>0</td>\n",
              "    </tr>\n",
              "    <tr>\n",
              "      <th>23</th>\n",
              "      <td>8</td>\n",
              "      <td>5</td>\n",
              "      <td>6</td>\n",
              "      <td>4</td>\n",
              "      <td>5</td>\n",
              "      <td>1</td>\n",
              "      <td>2</td>\n",
              "      <td>0</td>\n",
              "    </tr>\n",
              "    <tr>\n",
              "      <th>24</th>\n",
              "      <td>7</td>\n",
              "      <td>8</td>\n",
              "      <td>8</td>\n",
              "      <td>7</td>\n",
              "      <td>7</td>\n",
              "      <td>4</td>\n",
              "      <td>2</td>\n",
              "      <td>3</td>\n",
              "    </tr>\n",
              "    <tr>\n",
              "      <th>25</th>\n",
              "      <td>8</td>\n",
              "      <td>9</td>\n",
              "      <td>3</td>\n",
              "      <td>0</td>\n",
              "      <td>3</td>\n",
              "      <td>3</td>\n",
              "      <td>0</td>\n",
              "      <td>0</td>\n",
              "    </tr>\n",
              "    <tr>\n",
              "      <th>26</th>\n",
              "      <td>10</td>\n",
              "      <td>9</td>\n",
              "      <td>8</td>\n",
              "      <td>3</td>\n",
              "      <td>3</td>\n",
              "      <td>2</td>\n",
              "      <td>0</td>\n",
              "      <td>0</td>\n",
              "    </tr>\n",
              "    <tr>\n",
              "      <th>27</th>\n",
              "      <td>16</td>\n",
              "      <td>11</td>\n",
              "      <td>7</td>\n",
              "      <td>3</td>\n",
              "      <td>7</td>\n",
              "      <td>1</td>\n",
              "      <td>0</td>\n",
              "      <td>1</td>\n",
              "    </tr>\n",
              "    <tr>\n",
              "      <th>28</th>\n",
              "      <td>18</td>\n",
              "      <td>10</td>\n",
              "      <td>7</td>\n",
              "      <td>5</td>\n",
              "      <td>0</td>\n",
              "      <td>3</td>\n",
              "      <td>1</td>\n",
              "      <td>1</td>\n",
              "    </tr>\n",
              "    <tr>\n",
              "      <th>29</th>\n",
              "      <td>15</td>\n",
              "      <td>9</td>\n",
              "      <td>9</td>\n",
              "      <td>4</td>\n",
              "      <td>3</td>\n",
              "      <td>1</td>\n",
              "      <td>0</td>\n",
              "      <td>0</td>\n",
              "    </tr>\n",
              "    <tr>\n",
              "      <th>30</th>\n",
              "      <td>6</td>\n",
              "      <td>6</td>\n",
              "      <td>2</td>\n",
              "      <td>1</td>\n",
              "      <td>3</td>\n",
              "      <td>0</td>\n",
              "      <td>1</td>\n",
              "      <td>0</td>\n",
              "    </tr>\n",
              "    <tr>\n",
              "      <th>31</th>\n",
              "      <td>10</td>\n",
              "      <td>8</td>\n",
              "      <td>1</td>\n",
              "      <td>2</td>\n",
              "      <td>2</td>\n",
              "      <td>2</td>\n",
              "      <td>2</td>\n",
              "      <td>0</td>\n",
              "    </tr>\n",
              "    <tr>\n",
              "      <th>32</th>\n",
              "      <td>9</td>\n",
              "      <td>7</td>\n",
              "      <td>3</td>\n",
              "      <td>4</td>\n",
              "      <td>5</td>\n",
              "      <td>2</td>\n",
              "      <td>0</td>\n",
              "      <td>0</td>\n",
              "    </tr>\n",
              "    <tr>\n",
              "      <th>33</th>\n",
              "      <td>12</td>\n",
              "      <td>6</td>\n",
              "      <td>7</td>\n",
              "      <td>1</td>\n",
              "      <td>3</td>\n",
              "      <td>1</td>\n",
              "      <td>3</td>\n",
              "      <td>1</td>\n",
              "    </tr>\n",
              "    <tr>\n",
              "      <th>34</th>\n",
              "      <td>13</td>\n",
              "      <td>6</td>\n",
              "      <td>7</td>\n",
              "      <td>1</td>\n",
              "      <td>3</td>\n",
              "      <td>0</td>\n",
              "      <td>1</td>\n",
              "      <td>0</td>\n",
              "    </tr>\n",
              "    <tr>\n",
              "      <th>35</th>\n",
              "      <td>12</td>\n",
              "      <td>12</td>\n",
              "      <td>7</td>\n",
              "      <td>1</td>\n",
              "      <td>1</td>\n",
              "      <td>1</td>\n",
              "      <td>2</td>\n",
              "      <td>0</td>\n",
              "    </tr>\n",
              "    <tr>\n",
              "      <th>36</th>\n",
              "      <td>9</td>\n",
              "      <td>8</td>\n",
              "      <td>5</td>\n",
              "      <td>4</td>\n",
              "      <td>0</td>\n",
              "      <td>2</td>\n",
              "      <td>1</td>\n",
              "      <td>0</td>\n",
              "    </tr>\n",
              "    <tr>\n",
              "      <th>37</th>\n",
              "      <td>6</td>\n",
              "      <td>10</td>\n",
              "      <td>6</td>\n",
              "      <td>6</td>\n",
              "      <td>1</td>\n",
              "      <td>2</td>\n",
              "      <td>3</td>\n",
              "      <td>0</td>\n",
              "    </tr>\n",
              "    <tr>\n",
              "      <th>38</th>\n",
              "      <td>13</td>\n",
              "      <td>4</td>\n",
              "      <td>7</td>\n",
              "      <td>4</td>\n",
              "      <td>4</td>\n",
              "      <td>4</td>\n",
              "      <td>0</td>\n",
              "      <td>0</td>\n",
              "    </tr>\n",
              "    <tr>\n",
              "      <th>39</th>\n",
              "      <td>14</td>\n",
              "      <td>6</td>\n",
              "      <td>6</td>\n",
              "      <td>3</td>\n",
              "      <td>3</td>\n",
              "      <td>1</td>\n",
              "      <td>1</td>\n",
              "      <td>1</td>\n",
              "    </tr>\n",
              "    <tr>\n",
              "      <th>40</th>\n",
              "      <td>12</td>\n",
              "      <td>10</td>\n",
              "      <td>2</td>\n",
              "      <td>3</td>\n",
              "      <td>2</td>\n",
              "      <td>0</td>\n",
              "      <td>1</td>\n",
              "      <td>0</td>\n",
              "    </tr>\n",
              "    <tr>\n",
              "      <th>41</th>\n",
              "      <td>10</td>\n",
              "      <td>9</td>\n",
              "      <td>7</td>\n",
              "      <td>2</td>\n",
              "      <td>2</td>\n",
              "      <td>2</td>\n",
              "      <td>2</td>\n",
              "      <td>0</td>\n",
              "    </tr>\n",
              "    <tr>\n",
              "      <th>42</th>\n",
              "      <td>6</td>\n",
              "      <td>5</td>\n",
              "      <td>8</td>\n",
              "      <td>2</td>\n",
              "      <td>4</td>\n",
              "      <td>3</td>\n",
              "      <td>1</td>\n",
              "      <td>1</td>\n",
              "    </tr>\n",
              "    <tr>\n",
              "      <th>43</th>\n",
              "      <td>11</td>\n",
              "      <td>9</td>\n",
              "      <td>5</td>\n",
              "      <td>3</td>\n",
              "      <td>3</td>\n",
              "      <td>3</td>\n",
              "      <td>1</td>\n",
              "      <td>0</td>\n",
              "    </tr>\n",
              "    <tr>\n",
              "      <th>44</th>\n",
              "      <td>6</td>\n",
              "      <td>4</td>\n",
              "      <td>7</td>\n",
              "      <td>3</td>\n",
              "      <td>4</td>\n",
              "      <td>2</td>\n",
              "      <td>1</td>\n",
              "      <td>2</td>\n",
              "    </tr>\n",
              "    <tr>\n",
              "      <th>45</th>\n",
              "      <td>9</td>\n",
              "      <td>5</td>\n",
              "      <td>4</td>\n",
              "      <td>3</td>\n",
              "      <td>1</td>\n",
              "      <td>0</td>\n",
              "      <td>1</td>\n",
              "      <td>1</td>\n",
              "    </tr>\n",
              "    <tr>\n",
              "      <th>46</th>\n",
              "      <td>8</td>\n",
              "      <td>1</td>\n",
              "      <td>3</td>\n",
              "      <td>6</td>\n",
              "      <td>5</td>\n",
              "      <td>3</td>\n",
              "      <td>2</td>\n",
              "      <td>1</td>\n",
              "    </tr>\n",
              "    <tr>\n",
              "      <th>47</th>\n",
              "      <td>6</td>\n",
              "      <td>7</td>\n",
              "      <td>4</td>\n",
              "      <td>4</td>\n",
              "      <td>2</td>\n",
              "      <td>5</td>\n",
              "      <td>2</td>\n",
              "      <td>0</td>\n",
              "    </tr>\n",
              "    <tr>\n",
              "      <th>48</th>\n",
              "      <td>13</td>\n",
              "      <td>9</td>\n",
              "      <td>6</td>\n",
              "      <td>3</td>\n",
              "      <td>2</td>\n",
              "      <td>1</td>\n",
              "      <td>0</td>\n",
              "      <td>0</td>\n",
              "    </tr>\n",
              "    <tr>\n",
              "      <th>49</th>\n",
              "      <td>10</td>\n",
              "      <td>10</td>\n",
              "      <td>5</td>\n",
              "      <td>7</td>\n",
              "      <td>2</td>\n",
              "      <td>4</td>\n",
              "      <td>1</td>\n",
              "      <td>0</td>\n",
              "    </tr>\n",
              "  </tbody>\n",
              "</table>\n",
              "</div>"
            ],
            "text/plain": [
              "CE_Successful_Leads   1   2  3  4  5  6  7  8\n",
              "CE_Age                                       \n",
              "20                   14   4  6  3  0  3  0  0\n",
              "21                   16   7  7  8  1  1  1  1\n",
              "22                    9  10  5  3  5  0  1  0\n",
              "23                    8   5  6  4  5  1  2  0\n",
              "24                    7   8  8  7  7  4  2  3\n",
              "25                    8   9  3  0  3  3  0  0\n",
              "26                   10   9  8  3  3  2  0  0\n",
              "27                   16  11  7  3  7  1  0  1\n",
              "28                   18  10  7  5  0  3  1  1\n",
              "29                   15   9  9  4  3  1  0  0\n",
              "30                    6   6  2  1  3  0  1  0\n",
              "31                   10   8  1  2  2  2  2  0\n",
              "32                    9   7  3  4  5  2  0  0\n",
              "33                   12   6  7  1  3  1  3  1\n",
              "34                   13   6  7  1  3  0  1  0\n",
              "35                   12  12  7  1  1  1  2  0\n",
              "36                    9   8  5  4  0  2  1  0\n",
              "37                    6  10  6  6  1  2  3  0\n",
              "38                   13   4  7  4  4  4  0  0\n",
              "39                   14   6  6  3  3  1  1  1\n",
              "40                   12  10  2  3  2  0  1  0\n",
              "41                   10   9  7  2  2  2  2  0\n",
              "42                    6   5  8  2  4  3  1  1\n",
              "43                   11   9  5  3  3  3  1  0\n",
              "44                    6   4  7  3  4  2  1  2\n",
              "45                    9   5  4  3  1  0  1  1\n",
              "46                    8   1  3  6  5  3  2  1\n",
              "47                    6   7  4  4  2  5  2  0\n",
              "48                   13   9  6  3  2  1  0  0\n",
              "49                   10  10  5  7  2  4  1  0"
            ]
          },
          "metadata": {
            "tags": []
          },
          "execution_count": 27
        }
      ]
    },
    {
      "cell_type": "code",
      "metadata": {
        "colab": {
          "base_uri": "https://localhost:8080/",
          "height": 561
        },
        "id": "RM0jAyT-lfF8",
        "outputId": "d0369529-4ce0-4905-c014-9dddf38d08f5"
      },
      "source": [
        "data.plot.scatter(\"CE_Age\",\"C_Times_Call\")\r\n",
        "\r\n",
        "data.pivot_table(index=\"CE_Language\",values=\"C_Times_Call\",aggfunc=\"median\")\r\n",
        "\r\n",
        "data.plot.scatter(\"C_Times_Call\",\"Call_Duration_Sec\")"
      ],
      "execution_count": 28,
      "outputs": [
        {
          "output_type": "execute_result",
          "data": {
            "text/plain": [
              "<matplotlib.axes._subplots.AxesSubplot at 0x7f670590b210>"
            ]
          },
          "metadata": {
            "tags": []
          },
          "execution_count": 28
        },
        {
          "output_type": "display_data",
          "data": {
            "image/png": "[encoded data removed]",
            "text/plain": [
              "<Figure size 432x288 with 1 Axes>"
            ]
          },
          "metadata": {
            "tags": [],
            "needs_background": "light"
          }
        },
        {
          "output_type": "display_data",
          "data": {
            "image/png": "[encoded data removed]",
            "text/plain": [
              "<Figure size 432x288 with 1 Axes>"
            ]
          },
          "metadata": {
            "tags": [],
            "needs_background": "light"
          }
        }
      ]
    },
    {
      "cell_type": "code",
      "metadata": {
        "id": "Bz0eoNazsxgo"
      },
      "source": [
        "#Data Preprocessing\r\n",
        "\r\n",
        "def ce_edit(c):\r\n",
        "  new_str=''\r\n",
        "  for i in c:\r\n",
        "    if i=='[' or i==']' or i=='\\'':\r\n",
        "      pass\r\n",
        "    else:\r\n",
        "      new_str=new_str+i\r\n",
        "  b=new_str.split(',')\r\n",
        "  return b\r\n",
        "\r\n",
        "data['CE_Experties']=data['CE_Experties'].apply(ce_edit)"
      ],
      "execution_count": 29,
      "outputs": []
    },
    {
      "cell_type": "code",
      "metadata": {
        "colab": {
          "base_uri": "https://localhost:8080/"
        },
        "id": "rQsmgvxwtP5I",
        "outputId": "4a411a33-c928-4372-e86f-c06e1c85b01a"
      },
      "source": [
        "data['CE_Experties'][0]"
      ],
      "execution_count": 30,
      "outputs": [
        {
          "output_type": "execute_result",
          "data": {
            "text/plain": [
              "['Education Insurance', ' Health Insurance']"
            ]
          },
          "metadata": {
            "tags": []
          },
          "execution_count": 30
        }
      ]
    },
    {
      "cell_type": "code",
      "metadata": {
        "colab": {
          "base_uri": "https://localhost:8080/"
        },
        "id": "DnEU2DiatUEN",
        "outputId": "d9a0686e-6d34-4222-bba0-47ec0c63c0e7"
      },
      "source": [
        "unique_CE=[]\r\n",
        "for items in data['CE_Experties']:\r\n",
        "  unique_CE=unique_CE+items\r\n",
        "\r\n",
        "set(unique_CE)"
      ],
      "execution_count": 31,
      "outputs": [
        {
          "output_type": "execute_result",
          "data": {
            "text/plain": [
              "{' Car Insurance',\n",
              " ' Education Insurance',\n",
              " ' Health Insurance',\n",
              " ' Home Insurance',\n",
              " ' Life Insurance',\n",
              " 'Car Insurance',\n",
              " 'Education Insurance',\n",
              " 'Health Insurance',\n",
              " 'Home Insurance',\n",
              " 'Life Insurance'}"
            ]
          },
          "metadata": {
            "tags": []
          },
          "execution_count": 31
        }
      ]
    },
    {
      "cell_type": "code",
      "metadata": {
        "id": "TnHyaOjdtaA2"
      },
      "source": [
        "def car_i(c):\r\n",
        "  if ' Car Insurance' in c or 'Car Insurance' in c:\r\n",
        "    return 1\r\n",
        "  else:\r\n",
        "    return 0\r\n",
        "\r\n",
        "\r\n",
        "def education_i(c):\r\n",
        "  if ' Education Insurance' in c or 'Education Insurance' in c:\r\n",
        "    return 1\r\n",
        "  else:\r\n",
        "    return 0\r\n",
        "\r\n",
        "\r\n",
        "def health_i(c):\r\n",
        "  if ' Health Insurance' in c or 'Health Insurance' in c:\r\n",
        "    return 1\r\n",
        "  else:\r\n",
        "    return 0\r\n",
        "\r\n",
        "\r\n",
        "def home_i(c):\r\n",
        "  if ' Home Insurance' in c or 'Home Insurance' in c:\r\n",
        "    return 1\r\n",
        "  else:\r\n",
        "    return 0\r\n",
        "\r\n",
        "\r\n",
        "def life_i(c):\r\n",
        "  if ' Life Insurance' in c or 'Life Insurance' in c:\r\n",
        "    return 1\r\n",
        "  else:\r\n",
        "    return 0"
      ],
      "execution_count": 32,
      "outputs": []
    },
    {
      "cell_type": "code",
      "metadata": {
        "id": "-p_IKo9FtpdS"
      },
      "source": [
        "data['CE_Experties_Car_insurance']=data['CE_Experties'].apply(car_i)\r\n",
        "data['CE_Experties_Education Insurance']=data['CE_Experties'].apply(education_i)\r\n",
        "data['CE_Experties_Health Insurance']=data['CE_Experties'].apply(health_i)\r\n",
        "data['CE_Experties_Home Insurance']=data['CE_Experties'].apply(home_i)\r\n",
        "data['CE_Experties_Life Insurance']=data['CE_Experties'].apply(life_i)"
      ],
      "execution_count": 33,
      "outputs": []
    },
    {
      "cell_type": "code",
      "metadata": {
        "colab": {
          "base_uri": "https://localhost:8080/",
          "height": 450
        },
        "id": "ryxiv1dat3__",
        "outputId": "92028752-8b77-49d2-8b5e-bd0bdb92b54b"
      },
      "source": [
        "data.head()"
      ],
      "execution_count": 34,
      "outputs": [
        {
          "output_type": "execute_result",
          "data": {
            "text/html": [
              "<div>\n",
              "<style scoped>\n",
              "    .dataframe tbody tr th:only-of-type {\n",
              "        vertical-align: middle;\n",
              "    }\n",
              "\n",
              "    .dataframe tbody tr th {\n",
              "        vertical-align: top;\n",
              "    }\n",
              "\n",
              "    .dataframe thead th {\n",
              "        text-align: right;\n",
              "    }\n",
              "</style>\n",
              "<table border=\"1\" class=\"dataframe\">\n",
              "  <thead>\n",
              "    <tr style=\"text-align: right;\">\n",
              "      <th></th>\n",
              "      <th>Call_Id</th>\n",
              "      <th>CE_Id</th>\n",
              "      <th>CE_Age</th>\n",
              "      <th>CE_Language</th>\n",
              "      <th>CE_Experties</th>\n",
              "      <th>CE_Total_Handled_Leads</th>\n",
              "      <th>CE_Successful_Leads</th>\n",
              "      <th>C_Language</th>\n",
              "      <th>C_Timeperiod_months</th>\n",
              "      <th>C_Field</th>\n",
              "      <th>C_Times_Call</th>\n",
              "      <th>C_Products_Subscribed</th>\n",
              "      <th>C_Premium_Products_Subscribed</th>\n",
              "      <th>C_Call_On_Same_Topic</th>\n",
              "      <th>C_Default_Premium</th>\n",
              "      <th>Call_Duration_Sec</th>\n",
              "      <th>Converted</th>\n",
              "      <th>CE_Experties_Car_insurance</th>\n",
              "      <th>CE_Experties_Education Insurance</th>\n",
              "      <th>CE_Experties_Health Insurance</th>\n",
              "      <th>CE_Experties_Home Insurance</th>\n",
              "      <th>CE_Experties_Life Insurance</th>\n",
              "    </tr>\n",
              "  </thead>\n",
              "  <tbody>\n",
              "    <tr>\n",
              "      <th>0</th>\n",
              "      <td>0</td>\n",
              "      <td>4726</td>\n",
              "      <td>36</td>\n",
              "      <td>Hindi</td>\n",
              "      <td>[Education Insurance,  Health Insurance]</td>\n",
              "      <td>97</td>\n",
              "      <td>2</td>\n",
              "      <td>Hindi</td>\n",
              "      <td>9</td>\n",
              "      <td>Life Insurance</td>\n",
              "      <td>14.294206</td>\n",
              "      <td>3</td>\n",
              "      <td>1</td>\n",
              "      <td>0</td>\n",
              "      <td>3</td>\n",
              "      <td>632.998115</td>\n",
              "      <td>0</td>\n",
              "      <td>0</td>\n",
              "      <td>1</td>\n",
              "      <td>1</td>\n",
              "      <td>0</td>\n",
              "      <td>0</td>\n",
              "    </tr>\n",
              "    <tr>\n",
              "      <th>1</th>\n",
              "      <td>1</td>\n",
              "      <td>7854</td>\n",
              "      <td>41</td>\n",
              "      <td>English</td>\n",
              "      <td>[Home Insurance,  Health Insurance,  Education...</td>\n",
              "      <td>83</td>\n",
              "      <td>5</td>\n",
              "      <td>English</td>\n",
              "      <td>45</td>\n",
              "      <td>Car Insurance</td>\n",
              "      <td>29.513318</td>\n",
              "      <td>5</td>\n",
              "      <td>4</td>\n",
              "      <td>3</td>\n",
              "      <td>1</td>\n",
              "      <td>361.490815</td>\n",
              "      <td>0</td>\n",
              "      <td>0</td>\n",
              "      <td>1</td>\n",
              "      <td>1</td>\n",
              "      <td>1</td>\n",
              "      <td>0</td>\n",
              "    </tr>\n",
              "    <tr>\n",
              "      <th>2</th>\n",
              "      <td>2</td>\n",
              "      <td>2154</td>\n",
              "      <td>38</td>\n",
              "      <td>English</td>\n",
              "      <td>[Life Insurance,  Car Insurance]</td>\n",
              "      <td>49</td>\n",
              "      <td>2</td>\n",
              "      <td>English</td>\n",
              "      <td>46</td>\n",
              "      <td>Education Insurance</td>\n",
              "      <td>20.610997</td>\n",
              "      <td>9</td>\n",
              "      <td>3</td>\n",
              "      <td>2</td>\n",
              "      <td>0</td>\n",
              "      <td>603.620661</td>\n",
              "      <td>0</td>\n",
              "      <td>1</td>\n",
              "      <td>0</td>\n",
              "      <td>0</td>\n",
              "      <td>0</td>\n",
              "      <td>1</td>\n",
              "    </tr>\n",
              "    <tr>\n",
              "      <th>3</th>\n",
              "      <td>3</td>\n",
              "      <td>7225</td>\n",
              "      <td>21</td>\n",
              "      <td>Urdu</td>\n",
              "      <td>[Life Insurance]</td>\n",
              "      <td>34</td>\n",
              "      <td>2</td>\n",
              "      <td>Urdu</td>\n",
              "      <td>6</td>\n",
              "      <td>Health Insurance</td>\n",
              "      <td>30.240547</td>\n",
              "      <td>18</td>\n",
              "      <td>8</td>\n",
              "      <td>5</td>\n",
              "      <td>0</td>\n",
              "      <td>606.308569</td>\n",
              "      <td>1</td>\n",
              "      <td>0</td>\n",
              "      <td>0</td>\n",
              "      <td>0</td>\n",
              "      <td>0</td>\n",
              "      <td>1</td>\n",
              "    </tr>\n",
              "    <tr>\n",
              "      <th>4</th>\n",
              "      <td>4</td>\n",
              "      <td>5409</td>\n",
              "      <td>46</td>\n",
              "      <td>Urdu</td>\n",
              "      <td>[Home Insurance,  Car Insurance,  Life Insurance]</td>\n",
              "      <td>84</td>\n",
              "      <td>5</td>\n",
              "      <td>Urdu</td>\n",
              "      <td>40</td>\n",
              "      <td>Home Insurance</td>\n",
              "      <td>31.436881</td>\n",
              "      <td>10</td>\n",
              "      <td>7</td>\n",
              "      <td>9</td>\n",
              "      <td>3</td>\n",
              "      <td>527.413442</td>\n",
              "      <td>0</td>\n",
              "      <td>1</td>\n",
              "      <td>0</td>\n",
              "      <td>0</td>\n",
              "      <td>1</td>\n",
              "      <td>1</td>\n",
              "    </tr>\n",
              "  </tbody>\n",
              "</table>\n",
              "</div>"
            ],
            "text/plain": [
              "   Call_Id  CE_Id  ...  CE_Experties_Home Insurance CE_Experties_Life Insurance\n",
              "0        0   4726  ...                            0                           0\n",
              "1        1   7854  ...                            1                           0\n",
              "2        2   2154  ...                            0                           1\n",
              "3        3   7225  ...                            0                           1\n",
              "4        4   5409  ...                            1                           1\n",
              "\n",
              "[5 rows x 22 columns]"
            ]
          },
          "metadata": {
            "tags": []
          },
          "execution_count": 34
        }
      ]
    },
    {
      "cell_type": "code",
      "metadata": {
        "id": "d135rAbkuADO"
      },
      "source": [
        "data.drop('CE_Experties',axis=1,inplace=True)"
      ],
      "execution_count": 35,
      "outputs": []
    },
    {
      "cell_type": "code",
      "metadata": {
        "id": "CqEu8CI5uDF7"
      },
      "source": [
        "#encoding using one hot encoding\r\n",
        "\r\n",
        "data=pd.get_dummies(data, columns=[\"CE_Language\",\"C_Language\",\"C_Field\"])\r\n"
      ],
      "execution_count": 36,
      "outputs": []
    },
    {
      "cell_type": "code",
      "metadata": {
        "id": "-6uHJKx3vLo0"
      },
      "source": [
        "data.shape\r\n",
        "\r\n",
        "#Split the data\r\n",
        "X=data.drop('Converted',axis=1)\r\n",
        "Y=data['Converted']"
      ],
      "execution_count": 37,
      "outputs": []
    },
    {
      "cell_type": "code",
      "metadata": {
        "colab": {
          "base_uri": "https://localhost:8080/"
        },
        "id": "VGUHdNKNvcY8",
        "outputId": "bae41d7b-051e-45d3-8b13-5e325115150d"
      },
      "source": [
        "from sklearn.model_selection import train_test_split\r\n",
        "train_x,test_x,train_y,test_y=train_test_split(X,Y,random_state=42)\r\n",
        "train_x.shape,test_x.shape,train_y.shape,test_y.shape"
      ],
      "execution_count": 38,
      "outputs": [
        {
          "output_type": "execute_result",
          "data": {
            "text/plain": [
              "((750, 32), (250, 32), (750,), (250,))"
            ]
          },
          "metadata": {
            "tags": []
          },
          "execution_count": 38
        }
      ]
    },
    {
      "cell_type": "code",
      "metadata": {
        "id": "q1npM-e0vedR"
      },
      "source": [
        "from sklearn.ensemble import RandomForestRegressor\r\n",
        "from sklearn.tree import DecisionTreeClassifier\r\n",
        "from sklearn.metrics import accuracy_score, f1_score, precision_score, recall_score, classification_report, confusion_matrix\r\n"
      ],
      "execution_count": 39,
      "outputs": []
    },
    {
      "cell_type": "code",
      "metadata": {
        "colab": {
          "base_uri": "https://localhost:8080/"
        },
        "id": "IKEyoBc2viFh",
        "outputId": "6c370402-cd67-4870-a89b-a74ccf8ad71d"
      },
      "source": [
        "#using decision tree classifier\r\n",
        "cl=DecisionTreeClassifier()\r\n",
        "cl.fit(train_x,train_y)\r\n",
        "y_pred=cl.predict(test_x)\r\n",
        "print(f1_score(test_y, y_pred, average=\"macro\"))\r\n",
        "print(precision_score(test_y, y_pred, average=\"macro\"))\r\n",
        "print(recall_score(test_y, y_pred, average=\"macro\"))    \r\n",
        "print(confusion_matrix(test_y,y_pred))"
      ],
      "execution_count": 40,
      "outputs": [
        {
          "output_type": "stream",
          "text": [
            "1.0\n",
            "1.0\n",
            "1.0\n",
            "[[174   0]\n",
            " [  0  76]]\n"
          ],
          "name": "stdout"
        }
      ]
    },
    {
      "cell_type": "code",
      "metadata": {
        "colab": {
          "base_uri": "https://localhost:8080/"
        },
        "id": "SWlnI1uhdoUI",
        "outputId": "57f438ad-c32b-4d6c-f098-50ef52597375"
      },
      "source": [
        "#using logistic regression\r\n",
        "from sklearn.linear_model import LogisticRegression\r\n",
        "lr=LogisticRegression()\r\n",
        "lr.fit(train_x,train_y)\r\n",
        "y_pred=lr.predict(test_x)\r\n",
        "print(f1_score(test_y, y_pred, average=\"macro\"))\r\n",
        "print(precision_score(test_y, y_pred, average=\"macro\"))\r\n",
        "print(recall_score(test_y, y_pred, average=\"macro\"))    \r\n",
        "print(confusion_matrix(test_y,y_pred))"
      ],
      "execution_count": 41,
      "outputs": [
        {
          "output_type": "stream",
          "text": [
            "0.6964177292046145\n",
            "0.7533034953111679\n",
            "0.6797489413188142\n",
            "[[161  13]\n",
            " [ 43  33]]\n"
          ],
          "name": "stdout"
        }
      ]
    },
    {
      "cell_type": "code",
      "metadata": {
        "colab": {
          "base_uri": "https://localhost:8080/"
        },
        "id": "gm4Ao317dzV3",
        "outputId": "3fb62166-e6ea-42b8-ccd2-1ed43ad05235"
      },
      "source": [
        "#Using KNN Classifier\r\n",
        "from sklearn.neighbors import KNeighborsClassifier\r\n",
        "knn=KNeighborsClassifier()\r\n",
        "knn.fit(train_x,train_y)\r\n",
        "y_pred=knn.predict(test_x)\r\n",
        "print(f1_score(test_y, y_pred, average=\"macro\"))\r\n",
        "print(precision_score(test_y, y_pred, average=\"macro\"))\r\n",
        "print(recall_score(test_y, y_pred, average=\"macro\"))    \r\n",
        "print(confusion_matrix(test_y,y_pred))"
      ],
      "execution_count": 42,
      "outputs": [
        {
          "output_type": "stream",
          "text": [
            "0.5366231274122855\n",
            "0.5585365853658537\n",
            "0.5408348457350273\n",
            "[[147  27]\n",
            " [ 58  18]]\n"
          ],
          "name": "stdout"
        }
      ]
    },
    {
      "cell_type": "code",
      "metadata": {
        "colab": {
          "base_uri": "https://localhost:8080/"
        },
        "id": "0Blx11VAd1FQ",
        "outputId": "d3ed3906-7a22-4224-e941-24fc651349eb"
      },
      "source": [
        "# using random forest classifier\r\n",
        "from sklearn.ensemble import RandomForestClassifier\r\n",
        "rfc=RandomForestClassifier()\r\n",
        "rfc.fit(train_x,train_y)\r\n",
        "y_pred=rfc.predict(test_x)\r\n",
        "print(f1_score(test_y, y_pred, average=\"macro\"))\r\n",
        "print(precision_score(test_y, y_pred, average=\"macro\"))\r\n",
        "print(recall_score(test_y, y_pred, average=\"macro\"))    \r\n",
        "print(confusion_matrix(test_y,y_pred))"
      ],
      "execution_count": 43,
      "outputs": [
        {
          "output_type": "stream",
          "text": [
            "1.0\n",
            "1.0\n",
            "1.0\n",
            "[[174   0]\n",
            " [  0  76]]\n"
          ],
          "name": "stdout"
        }
      ]
    },
    {
      "cell_type": "markdown",
      "metadata": {
        "id": "DKM-nAQ1d8fM"
      },
      "source": [
        "## **Assignment Answers**\r\n",
        "\r\n",
        "\r\n",
        "**Ans 1** The methodology followed is as below:\r\n",
        "\r\n",
        "*   Importing essential libraries\r\n",
        "*   Performing EDA and checking the dataset for null values\r\n",
        "*   Pre processing\r\n",
        "*   Encoding using one-hot encoding method\r\n",
        "*   Modelling\r\n",
        "\r\n",
        "**Ans 2** Random Forest classifier and Decision tree classifier are working well on this dataset.\r\n",
        "\r\n",
        "**Ans 3** Because on calculating the precision and recall score of both these models is 1.0 which is best achieved on these two models when compared to any other model.\r\n",
        "\r\n",
        "**Ans 4** I have used precision score and recall score. I have used confusion matrix as well. Confusion matrix can help us recognize if any datapoints are wrongly classified.\r\n",
        "\r\n",
        "**Ans 5** The dataset was highly imbalanced.\r\n"
      ]
    },
    {
      "cell_type": "markdown",
      "metadata": {
        "id": "zp7sJplLhaiK"
      },
      "source": [
        "#Understanding Featured and their impact\r\n"
      ]
    },
    {
      "cell_type": "code",
      "metadata": {
        "colab": {
          "base_uri": "https://localhost:8080/",
          "height": 513
        },
        "id": "j3lXFWSHhlaf",
        "outputId": "641eea01-13e6-447c-e6b6-74661d7c33a1"
      },
      "source": [
        "features=data.columns\r\n",
        "importances = rfc.feature_importances_\r\n",
        "indices = np.argsort(importances)\r\n",
        "\r\n",
        "fig=plt.figure(figsize=(10,8))\r\n",
        "plt.figure(1)\r\n",
        "plt.title('Feature Importances')\r\n",
        "plt.barh(range(len(indices)), importances[indices], color='b', align='center')\r\n",
        "plt.yticks(range(len(indices)), features[indices])\r\n",
        "plt.xlabel('Relative Importance');"
      ],
      "execution_count": 44,
      "outputs": [
        {
          "output_type": "display_data",
          "data": {
            "image/png": "[encoded data removed]",
            "text/plain": [
              "<Figure size 720x576 with 1 Axes>"
            ]
          },
          "metadata": {
            "tags": [],
            "needs_background": "light"
          }
        }
      ]
    },
    {
      "cell_type": "markdown",
      "metadata": {
        "id": "La_GWJVxiBUg"
      },
      "source": [
        "**Featues like** 'C_Call_On_Same_Topic', 'C_Default_Premium','C_Times_Call', 'C_Premium_Products_Subscribed'* are the most Important features"
      ]
    },
    {
      "cell_type": "code",
      "metadata": {
        "colab": {
          "base_uri": "https://localhost:8080/",
          "height": 297
        },
        "id": "lKAXl_1wiNeK",
        "outputId": "8648e349-c3cb-4f90-c9bb-c293a974a8ed"
      },
      "source": [
        "#understanding impact of 'C_Call_On_Same_Topic\r\n",
        "\r\n",
        "data['C_Call_On_Same_Topic'].head(n=2)\r\n",
        "sns.countplot(data['C_Call_On_Same_Topic'],hue=data['Converted'])\r\n",
        "\r\n",
        "#The ones with the same topic from 0 to 4 were Not Converted and the ones after 4 were mostly not converted"
      ],
      "execution_count": 45,
      "outputs": [
        {
          "output_type": "execute_result",
          "data": {
            "text/plain": [
              "<matplotlib.axes._subplots.AxesSubplot at 0x7f66f7da2790>"
            ]
          },
          "metadata": {
            "tags": []
          },
          "execution_count": 45
        },
        {
          "output_type": "display_data",
          "data": {
            "image/png": "[encoded data removed]",
            "text/plain": [
              "<Figure size 432x288 with 1 Axes>"
            ]
          },
          "metadata": {
            "tags": [],
            "needs_background": "light"
          }
        }
      ]
    },
    {
      "cell_type": "code",
      "metadata": {
        "colab": {
          "base_uri": "https://localhost:8080/",
          "height": 297
        },
        "id": "tFNVpj3oirk-",
        "outputId": "51845541-b66e-4d01-ce2e-ea1a6c9db9d3"
      },
      "source": [
        "#understanding impact of 'C_Default_Premium'\r\n",
        "\r\n",
        "sns.countplot(data['C_Default_Premium'],hue=data['Converted'])\r\n",
        "\r\n",
        "\r\n",
        "#This means that the customers who get converted are within 2 default premiums"
      ],
      "execution_count": 46,
      "outputs": [
        {
          "output_type": "execute_result",
          "data": {
            "text/plain": [
              "<matplotlib.axes._subplots.AxesSubplot at 0x7f66f7c5b950>"
            ]
          },
          "metadata": {
            "tags": []
          },
          "execution_count": 46
        },
        {
          "output_type": "display_data",
          "data": {
            "image/png": "[encoded data removed]",
            "text/plain": [
              "<Figure size 432x288 with 1 Axes>"
            ]
          },
          "metadata": {
            "tags": [],
            "needs_background": "light"
          }
        }
      ]
    },
    {
      "cell_type": "code",
      "metadata": {
        "colab": {
          "base_uri": "https://localhost:8080/",
          "height": 297
        },
        "id": "-LP_3gb8jAyb",
        "outputId": "980793ff-cb95-4541-a629-782d44c21a1a"
      },
      "source": [
        "#understanding impact of 'C_Times_Call'\r\n",
        "\r\n",
        "sns.scatterplot(x=data['C_Times_Call'], y=data['C_Premium_Products_Subscribed'],hue=data['Converted'])\r\n",
        "\r\n",
        "#Customers having more products subscription and who have a calledtime over 30 are the ones who have been mostly converted"
      ],
      "execution_count": 47,
      "outputs": [
        {
          "output_type": "execute_result",
          "data": {
            "text/plain": [
              "<matplotlib.axes._subplots.AxesSubplot at 0x7f66f7c39ad0>"
            ]
          },
          "metadata": {
            "tags": []
          },
          "execution_count": 47
        },
        {
          "output_type": "display_data",
          "data": {
            "image/png": "[encoded data removed]",
            "text/plain": [
              "<Figure size 432x288 with 1 Axes>"
            ]
          },
          "metadata": {
            "tags": [],
            "needs_background": "light"
          }
        }
      ]
    },
    {
      "cell_type": "markdown",
      "metadata": {
        "id": "12hCMU-tlh-u"
      },
      "source": [
        "**Conclusion**\r\n",
        "\r\n",
        "\r\n",
        "- Agents should target clients who have atleast 28 times runtime call to convert their leads succesfully.\r\n",
        "- They should target ones with more premium products."
      ]
    }
  ]
}