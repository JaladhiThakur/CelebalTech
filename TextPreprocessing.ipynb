{
  "nbformat": 4,
  "nbformat_minor": 0,
  "metadata": {
    "colab": {
      "name": "TextPreprocessing.ipynb",
      "provenance": []
    },
    "kernelspec": {
      "name": "python3",
      "display_name": "Python 3"
    }
  },
  "cells": [
    {
      "cell_type": "code",
      "metadata": {
        "colab": {
          "base_uri": "https://localhost:8080/"
        },
        "id": "NoJ0uJ9Lraxt",
        "outputId": "ce10e466-8886-42e4-f3ee-765bc92d3645"
      },
      "source": [
        "import pandas as pd\r\n",
        "import re\r\n",
        "import nltk\r\n",
        "from nltk.corpus import stopwords\r\n",
        "from nltk.stem import WordNetLemmatizer\r\n",
        "from nltk.stem.porter import PorterStemmer\r\n",
        "nltk.download('punkt')\r\n",
        "nltk.download('wordnet')\r\n",
        "nltk.download('stopwords')\r\n",
        "ps = PorterStemmer()\r\n",
        "lemmatizer = WordNetLemmatizer()\r\n"
      ],
      "execution_count": 1,
      "outputs": [
        {
          "output_type": "stream",
          "text": [
            "[nltk_data] Downloading package punkt to /root/nltk_data...\n",
            "[nltk_data]   Package punkt is already up-to-date!\n",
            "[nltk_data] Downloading package wordnet to /root/nltk_data...\n",
            "[nltk_data]   Package wordnet is already up-to-date!\n",
            "[nltk_data] Downloading package stopwords to /root/nltk_data...\n",
            "[nltk_data]   Package stopwords is already up-to-date!\n"
          ],
          "name": "stdout"
        }
      ]
    },
    {
      "cell_type": "code",
      "metadata": {
        "colab": {
          "base_uri": "https://localhost:8080/",
          "height": 195
        },
        "id": "jNWRoKQAr6pW",
        "outputId": "7ba3ab16-513b-4aa4-bf41-d9f983457b5a"
      },
      "source": [
        "data=pd.read_excel(\"/content/drive/MyDrive/Celebal Tech/dataset.xlsx\")\r\n",
        "data.head()"
      ],
      "execution_count": 2,
      "outputs": [
        {
          "output_type": "execute_result",
          "data": {
            "text/html": [
              "<div>\n",
              "<style scoped>\n",
              "    .dataframe tbody tr th:only-of-type {\n",
              "        vertical-align: middle;\n",
              "    }\n",
              "\n",
              "    .dataframe tbody tr th {\n",
              "        vertical-align: top;\n",
              "    }\n",
              "\n",
              "    .dataframe thead th {\n",
              "        text-align: right;\n",
              "    }\n",
              "</style>\n",
              "<table border=\"1\" class=\"dataframe\">\n",
              "  <thead>\n",
              "    <tr style=\"text-align: right;\">\n",
              "      <th></th>\n",
              "      <th>Username</th>\n",
              "      <th>Unnamed: 1</th>\n",
              "      <th>Comments</th>\n",
              "    </tr>\n",
              "  </thead>\n",
              "  <tbody>\n",
              "    <tr>\n",
              "      <th>0</th>\n",
              "      <td>I_Am_Kenzi</td>\n",
              "      <td>NaN</td>\n",
              "      <td>@NancyLeeGrahn: How did everyone feel about ...</td>\n",
              "    </tr>\n",
              "    <tr>\n",
              "      <th>1</th>\n",
              "      <td>PeacefulQuest</td>\n",
              "      <td>NaN</td>\n",
              "      <td>@ScottWalker: Didn't catch the full #GOPdeba...</td>\n",
              "    </tr>\n",
              "    <tr>\n",
              "      <th>2</th>\n",
              "      <td>PussssyCroook</td>\n",
              "      <td>NaN</td>\n",
              "      <td>@TJMShow: No mention of Tamir Rice and the #...</td>\n",
              "    </tr>\n",
              "    <tr>\n",
              "      <th>3</th>\n",
              "      <td>MattFromTexas31</td>\n",
              "      <td>NaN</td>\n",
              "      <td>@RobGeorge: That Carly Fiorina is trending -...</td>\n",
              "    </tr>\n",
              "    <tr>\n",
              "      <th>4</th>\n",
              "      <td>sharonDay5</td>\n",
              "      <td>NaN</td>\n",
              "      <td>@DanScavino: #GOPDebate w/ @realDonaldTrump ...</td>\n",
              "    </tr>\n",
              "  </tbody>\n",
              "</table>\n",
              "</div>"
            ],
            "text/plain": [
              "          Username  ...                                           Comments\n",
              "0       I_Am_Kenzi  ...    @NancyLeeGrahn: How did everyone feel about ...\n",
              "1    PeacefulQuest  ...    @ScottWalker: Didn't catch the full #GOPdeba...\n",
              "2    PussssyCroook  ...    @TJMShow: No mention of Tamir Rice and the #...\n",
              "3  MattFromTexas31  ...    @RobGeorge: That Carly Fiorina is trending -...\n",
              "4       sharonDay5  ...    @DanScavino: #GOPDebate w/ @realDonaldTrump ...\n",
              "\n",
              "[5 rows x 3 columns]"
            ]
          },
          "metadata": {
            "tags": []
          },
          "execution_count": 2
        }
      ]
    },
    {
      "cell_type": "code",
      "metadata": {
        "colab": {
          "base_uri": "https://localhost:8080/"
        },
        "id": "UytvdvimsPDj",
        "outputId": "fdcb002b-5017-4dc8-a294-c3778dc4f5b9"
      },
      "source": [
        "data.drop('Unnamed: 1',axis=1,inplace=True)\r\n",
        "print(data)"
      ],
      "execution_count": 3,
      "outputs": [
        {
          "output_type": "stream",
          "text": [
            "            Username                                           Comments\n",
            "0         I_Am_Kenzi    @NancyLeeGrahn: How did everyone feel about ...\n",
            "1      PeacefulQuest    @ScottWalker: Didn't catch the full #GOPdeba...\n",
            "2      PussssyCroook    @TJMShow: No mention of Tamir Rice and the #...\n",
            "3    MattFromTexas31    @RobGeorge: That Carly Fiorina is trending -...\n",
            "4         sharonDay5    @DanScavino: #GOPDebate w/ @realDonaldTrump ...\n",
            "..               ...                                                ...\n",
            "539   j_g_williamson                                                NaN\n",
            "540  smoothblink_pcs                                                NaN\n",
            "541     Roxsett27573                                                NaN\n",
            "542         bjankord                                                NaN\n",
            "543         arnab156                                                NaN\n",
            "\n",
            "[544 rows x 2 columns]\n"
          ],
          "name": "stdout"
        }
      ]
    },
    {
      "cell_type": "code",
      "metadata": {
        "colab": {
          "base_uri": "https://localhost:8080/"
        },
        "id": "NRfDO2nc2uo4",
        "outputId": "7360f84f-e10d-4087-e48f-25b411af3c39"
      },
      "source": [
        "data = data.dropna(how=\"any\")\r\n",
        "print(data)"
      ],
      "execution_count": 4,
      "outputs": [
        {
          "output_type": "stream",
          "text": [
            "            Username                                           Comments\n",
            "0         I_Am_Kenzi    @NancyLeeGrahn: How did everyone feel about ...\n",
            "1      PeacefulQuest    @ScottWalker: Didn't catch the full #GOPdeba...\n",
            "2      PussssyCroook    @TJMShow: No mention of Tamir Rice and the #...\n",
            "3    MattFromTexas31    @RobGeorge: That Carly Fiorina is trending -...\n",
            "4         sharonDay5    @DanScavino: #GOPDebate w/ @realDonaldTrump ...\n",
            "..               ...                                                ...\n",
            "105    Slim_Shady2o3    @palmaceiahome1: Caller on the Rush Limbaugh...\n",
            "106      VicSonaglia    @realDonaldTrump: \"@stinger_inc: @realDonald...\n",
            "107      paulrikmans  Republicans Debate Economics: Rubio Wins, Bush...\n",
            "108   LawrenceLange1    @JamesViser: Huh. Half of Clinton's charity ...\n",
            "109        1936power    @kraig4u: #GOPDebate  The order was to \"take...\n",
            "\n",
            "[110 rows x 2 columns]\n"
          ],
          "name": "stdout"
        }
      ]
    },
    {
      "cell_type": "code",
      "metadata": {
        "id": "n56EbbCY0otY"
      },
      "source": [
        "def remove_GOPDebate():\r\n",
        "    for i in range(0,110):\r\n",
        "      data['Comments']=data['Comments'].astype(str)\r\n",
        "      #comment = re.sub('[^@:$]', ' ', data['Comments'][i])\r\n",
        "      data['Comments'] = data['Comments'].str.replace('#GOPDebate',' ')\r\n",
        "      data['Comments'] = data['Comments'].str.replace('#GOPdebate',' ')\r\n",
        "    print(data)\r\n"
      ],
      "execution_count": 5,
      "outputs": []
    },
    {
      "cell_type": "code",
      "metadata": {
        "id": "vROBbSHysY6H"
      },
      "source": [
        "def to_lower():\r\n",
        "    for i in range(0, 110):\r\n",
        "        data['Comments'] = data['Comments'].astype(str)\r\n",
        "        comment = re.sub('[^a-zA-Z]',' ', data['Comments'][i])\r\n",
        "        comment = comment.lower()\r\n",
        "    print(comment)"
      ],
      "execution_count": 6,
      "outputs": []
    },
    {
      "cell_type": "code",
      "metadata": {
        "id": "E8anLdfqEb2k"
      },
      "source": [
        "def tokenization(set):\r\n",
        "    \r\n",
        "    from spacy.lang.en import English\r\n",
        "\r\n",
        "    if set==1:\r\n",
        "       nlp = English()\r\n",
        "       my_doc = nlp(data['Comments'][i])\r\n",
        "       token_list = []\r\n",
        "       for token in my_doc:\r\n",
        "           token_list.append(token.text)\r\n",
        "       token_list\r\n",
        "       return 1\r\n",
        "\r\n",
        "    else: \r\n",
        "     print(\"Skipped\")\r\n",
        "\r\n"
      ],
      "execution_count": 7,
      "outputs": []
    },
    {
      "cell_type": "code",
      "metadata": {
        "id": "VVOXFfHGE3zE"
      },
      "source": [
        "def stemming(set):\r\n",
        "\r\n",
        "    if set==1 :\r\n",
        "      comments_stemmed = []\r\n",
        "      for i in range(0, 110):\r\n",
        "           comment = re.sub('[^a-zA-Z]', ' ', data['Comments'][i])\r\n",
        "           comment = comment.lower()\r\n",
        "           comment = [ps.stem(word) for word in comment if not word in set(stopwords.words('english'))]\r\n",
        "           comment = ''.join(comment)\r\n",
        "           comments_stemmed.append(comment)\r\n",
        "      print(comments_stemmed)\r\n",
        "      return 1\r\n",
        "\r\n",
        "    else:\r\n",
        "      print(\"Skipped\")\r\n",
        "    "
      ],
      "execution_count": 8,
      "outputs": []
    },
    {
      "cell_type": "code",
      "metadata": {
        "colab": {
          "base_uri": "https://localhost:8080/"
        },
        "id": "PXldCQUrdDAz",
        "outputId": "1dad0bf5-fe0c-4114-f34c-d0fdaf622373"
      },
      "source": [
        "from textblob import TextBlob, Word\r\n",
        "\r\n",
        "# Lemmatize a word\r\n",
        "for i in range(0,110):\r\n",
        "    word = data['Comments'][i]\r\n",
        "    w = Word(word)\r\n",
        "    w.lemmatize()\r\n",
        "    print(w)"
      ],
      "execution_count": 9,
      "outputs": [
        {
          "output_type": "stream",
          "text": [
            "  @NancyLeeGrahn: How did everyone feel about the Climate Change question last night? Exactly. #GOPDebate\n",
            "  @ScottWalker: Didn't catch the full #GOPdebate last night. Here are some of Scott's best lines in 90 seconds. #Walker16 http://t.co/ZSfFâ€¦\n",
            "  @TJMShow: No mention of Tamir Rice and the #GOPDebate was held in Cleveland? Wow.\n",
            "  @RobGeorge: That Carly Fiorina is trending -- hours after HER debate -- above any of the men in just-completed #GOPdebate says she's on â€¦\n",
            "  @DanScavino: #GOPDebate w/ @realDonaldTrump delivered the highest ratings in the history of presidential debates. #Trump2016 http://t.coâ€¦\n",
            "  @GregAbbott_TX: @TedCruz: \"On my first day I will rescind every illegal executive action taken by Barack Obama.\" #GOPDebate @FoxNews\n",
            "  @warriorwoman91: I liked her and was happy when I heard she was going to be the moderator. Not anymore. #GOPDebate @megynkelly  https://â€¦\n",
            "Going on #MSNBC Live with @ThomasARobe s around 2 PM ET.  #GOPDebate\n",
            "Deer in the headlights   @lizzwinstead: Ben Carson, may be the only brain surgeon who has performed a lobotomy on himself. #GOPDebate\n",
            "  @NancyOsborne180: Last night's debate proved it! #GOPDebate #BATsAsk @BadassTeachersA #TBATs  https://t.co/G2gGjY1bJD\n",
            "@JGreenDC @realDonaldTrump In all fairness #BillClinton owns that phrase.#GOPDebate\n",
            "Me reading my family's comments about how great the #GOPDebate was http://t.co/gIaGjPygXZ\n",
            "  @ArcticFox2016:   @AllenWestRepub \"Dear @JebBush #GOPDebate #NotAMistake http://t.co/TtFG7KYcd9\"\n",
            "  @pattonoswalt: I loved Scott Walker as Mark Harmon's romantic rival in SUMMER SCHOOL. Look it up. #GOPDebate\n",
            "Hey @ChrisChristie exploiting the tragedy of 9/11 for your own political gain is @rudygiulianiGOP's thing #GOPDebate\n",
            "  @CarolCNN: #DonaldTrump under fire for comments about women @PeterBeina  @SL_Schaeffer @IWF @@MyRkiger weigh in on #GOPdebate http://t.â€¦\n",
            "  @johncardillo: Guess who had most speaking time at the #GOPDebate. @FoxNews moderators with 31.7% of time. http://t.co/2WSUT0c0Lx\n",
            "reason comment is funny 'in case you're ignorant' is the #gop #tcot are the reason the government isn't working for the people #gopdebate\n",
            "  @PamelaGeller: Huckabee: Paying for transgender surgery for soldiers, sailors and airmen does not make our country safer #Ha #GOPDebate\n",
            "  @ChuckNellis: Cruz has class &amp; truth, that gets my vote! #GOPDebate\n",
            "  @mchamric:   â€œ@TeaTraitors: #GOPDebate was still Clown Show! I'm glad Head Clown Trump helping destroy GOP. http://t.co/nwGx8G8JWrâ€\n",
            "  @erinmallorylong: No *I* hate Planned Parenthood and women more! NO I HATE PLANNED PARENTHOOD AND WOMEN MORE!!!!! #GOPDebate\n",
            "  @thekevinryder: #GOPDebate (Vine by @dabulldawg88) https://t.co/XKxVDrADce\n",
            "  @MrPooni: Fox News trying to convince us young Black Americans are more worried about ISIS than police terrorism #GOPDebate http://t.co/â€¦\n",
            "#GOPDebate rankings: worst to be performance - Rubio, Kasich, Christie, Bush, Trump, Cruz, Walker, Paul, Huckabee, Carson.\n",
            "  @TheBaxterBean: Scott Walker's Abo ion Ban Allows Rapist Father To Sue For Emotional Distress http://t.co/rHMvgumuir #GOPDebate @Badgerâ€¦\n",
            "  @feministabulous: It's not a competition, but how have we moved so far on gay rights but women's rights is worse than it's ever been? #Gâ€¦\n",
            "  @mch7576:   â€œ@TeaTraitors: #GOPDebate was still Clown Show! I'm glad Head Clown Trump helping destroy GOP. http://t.co/pRy2QPCWfuâ€â€\n",
            "  @HillaryClinton: Watch the #GOPdebate? Bet you feel like donating to a Democrat right about now. http://t.co/pGlQCqQgOP http://t.co/QP1eâ€¦\n",
            "@fbhw they're going to need to borrow the train horn for the next #GOPDebate ! The little bell was wimpy! #hornmeansyouredone\n",
            "  @LisaVikingstad: Ted Cruz at the #GOPDebate will be like Ted Cruz in bed. He will keep a confusingly sad look on his face and refuse to â€¦\n",
            "The First #GOPDebate: Social Media Reaction and More http://t.co/X6KUVSkltF\n",
            "#SocialMedia: The First #GOPDebate: Social Media Reaction and More http://t.co/ogoYfNyiKj\n",
            "  WinesdayPodcast : An update on FoxNews tech failures for the #GOPDebate http://t.co/FGGlf2J5HU http://t.co/Zw35DkUozi\n",
            "  @AmyMek: The Torched has been passed -&gt;.@CandyCrowley is no longer the most Famous Political Assassin! Congratulations @megynkelly, U Wiâ€¦\n",
            "  @kvxrdashian: Jeb Bush: \"Obama is at fault, not my brother, because Obama didn't clean up the mess my brother made.\" #GOPDebate http://tâ€¦\n",
            "  @ali: After the Fox News #GOPDebate, we primary voters are none the wiser on the policy plans these folks are putting fo h. Journalism â€¦\n",
            "  @itsashlyperez: listening to fetty wap while packing because i'm a true american #GOPDebate #doesthishashtagexpire?\n",
            "  @mgell: Trump is a cross between the shrug emoji and President Business from the Lego movie. #GOPDebate\n",
            "  @JamelleMyBelle: Meanwhile, in the White House...  #GOPDebate http://t.co/nouUUt5hKq\n",
            "  @RowdyGentleman: If youâ€™re planning out a #GOPDebate drinking game right now, youâ€™re a Rowdy Gentleman.\n",
            "  @brownblaze: PLEASE  . #KKKorGOP #GOPDebate http://t.co/YaqYAC3uV3\n",
            "Trump thinks criticism of his misogynistic remarks is a \"political correctness\" problem. Nope, it's a pervasive #sexism problem. #GOPDebate\n",
            "  @palmaceiahome1: The goal of #FoxNews last night was to take out Trump and pave the way for a RINO like Bush or Kasich. #GOPDebate\n",
            "  @philstockworld: From our Live Chat Room: #GOPDebate #Trump #Futures $SPY #NonFarmPayrolls #Jobs #Netflix -- http://t.co/0K06Sf81rq httpâ€¦\n",
            "â€œ@DanScavino: #GOPDebate w/ @realDonaldTrump delivered the highest ratings in the history of presidential debates. #Trump2016 Fox say thanks\n",
            "  @gov: Most-Tweeted @GovMikeHuckabee #GOPDebate moment: saying purpose of military \"to kill people/break things\" re trans servicemembers\n",
            "  @ariannahuff: The best and worst from the #GOPDebate http://t.co/YkI30j7hhO\n",
            "  @megynkelly: .@ChrisStirewalt: Big moments were @RandPaul vs. @ChrisChristie, and @realDonaldTrump reaction to women question. #KellyFilâ€¦\n",
            "  @STYLEMOM: Here's a question, WHY in the hell are WOMEN &amp; our body pa s even in this debate? Foh, stop it, it's not 1965 wtf #GOPDebateâ€¦\n",
            "@rushlimbaugh Americans getting beheaded overseas and @megynkelly is worried whether @realDonaldTrump calls Rosie O'Donnell fat? #GOPDebate\n",
            "  @ChuckNellis: I won't defend @FoxNews, they were FAR from fair OR balanced last night, but name calling is juvenile. #GOPDebate\n",
            "  @theskysgoneout: To non-Christians, #GOPDebate \"God\" questions underline how little anyone really cares about religious minorities. Chriâ€¦\n",
            "  @Bipa isanism: The #GOPDebate response to #BlackLivesMatter was pathetic. http://t.co/isMXbrRM0h\n",
            "  @factcheckdotorg: .@JebBush said he cut FL taxes by $19B. But that includes cuts in estate taxes mandated by federal law. #GOPDebate. htâ€¦\n",
            "  @TheJimHughes: If we want to stop sending foreign aid to places that burn our flag can we sta  with Berkeley? #GOPDebate\n",
            "  @frankthorpNBC: The Rand Paul eye roll to Chris Christie at the #GOPDebate https://t.co/hf318QSoWD\n",
            "  @JohnKasich: Scrap the President's Iran deal. Iran canâ€™t get a nuke. #Kasich4Us #GOPDebate http://t.co/9TrZxOnLZF\n",
            "Trying to decide if it's too early to come back to Twitter fulltime. Was gonna wait closer to election but the #GOPDebate may have me hooked\n",
            "  @Bipa isanism: Those saying \"don't worry, Trump will NEVER be elected\" need to remember we elected George Bush. Twice. #GOPDebate http:â€¦\n",
            "Fox News Had Its Own #GOPDebate Agenda: Promote Carly \"never mention fired from HP\" Fiorina, &amp; run Trump out of race http://t.co/9k1eujdFo7\n",
            "  @HlLLARY: Oh, one more thing. Did anyone hear anything about affordable child care for working families last night in the #GOPDebate ? Iâ€¦\n",
            "  @NaughtyBeyotch:   @AllenWestRepub \"Dear @JebBush #GOPDebate #NotAMistake http://t.co/WQnSuPSPkC\"\n",
            "@marthamaccallum @billhemmer #gopdebate Bill and Martha were the A Team in the first debate. 2nd debate was an ambush.\n",
            "The Country's going to hell and Megyn Kelly on #FoxNews is attacking Trump for a \"war on women?\" #GOPDebate\n",
            "  @Franklin_Graham: 1st #GOPDebate--Encouraging to see several candidates express their faith in God and His Son, Jesus Christ. http://t.câ€¦\n",
            "  @SnarkyDemo: #DonaldTrump said heâ€™s not â€œpolitically correct.â€  Which, of course, is Trumpspeak for â€œLetâ€™s face it, Iâ€™m huge asshole.â€ #â€¦\n",
            "  @Bipa isanism: A message to the #GOPDebate candidates: http://t.co/WFK5CmVgiN\n",
            "  @davidcicilline: This is the worst episode of The Apprentice that I've ever seen. #GOPDebate\n",
            "  @lolhayley: \"The purpose of the military is to kill people and break things.\" - something an actual man running for president just said â€¦\n",
            "Wondering if I could get the Republican Pa y to pay for my liver transplant after playing @mtaibbi #GOPDebate drinking game last night.\n",
            "  @BrandonDHowell: Great way to start  Friday. #CarlyFiorina @CarlyFiorina #GOPDebate http://t.co/1ai9CuZ8bY\n",
            "  @tedcruz: If elected, on my first day as President, I'll rescind every illegal and unconstitutional executive order enacted by Pres. Obaâ€¦\n",
            "  @Ronnie2K: Donald Trump during #GOPDebate be like... https://t.co/jCUirk1i1u\n",
            "  @bruneski: Was upstairs putting the kids to bed. How many questions about climate change did I miss? #GOPDebate #GOPClownCar\n",
            "  @learjetter: Hey @Foxnews let #REPUBLICANS digest #GOPDebate before allowing crazy @DWStweets to TRASH OUR #GOP! @LadySandersfarm http:/â€¦\n",
            "  @TheBaxterBean: Watch Donald Trump Receive Enormous Applause for Horribly Misogynistic #GOPDebate Answer http://t.co/R4e8TpOtd5 http://tâ€¦\n",
            "A few of my favorite #Twitter responses to the #GOPDebate last night: http://t.co/2IqcdrCdlm http://t.co/7TDMA3VLM8\n",
            "Even though she's a super conservative repo er, I actually like Megyn Kelly's interview style &amp; she did great at the #GOPDebate\n",
            "  @kingsthings: The #GOPdebate is not a debate at all. It's a series of 1 minute oppo unities to avoid answering a question one candidateâ€¦\n",
            "  @MelissaGracey: Credit for this joke goes to someone else but it is funny! #GOPDebate http://t.co/iCreDSSplR\n",
            "  @Reince: Simply incredible. http://t.co/apXM8AO8jf Last night's #GOPDebate doubled the previous record for most-watched primary debate iâ€¦\n",
            "  @KateThomas: This literally couldn't be more true for me. \"I Watched the #GOPDebate &amp; All I Got Was a Lousy Hangover\" http://t.co/cxch7Xâ€¦\n",
            "  @fl_dreamer: Haha a little saas from @voxdotcom this morning towards @realDonaldTrump. #FactChecked #GOPDebate http://t.co/dAeCtmLlaj\n",
            "  @TexasCruzn:   @AllenWestRepub \"Dear @JebBush #GOPDebate #NotAMistake http://t.co/1z3VuFjZlw\"\n",
            "  @zellieimani: What people saw in person vs what we saw on tv. #GOPDebate http://t.co/QlGsXRH5Hw\n",
            "  @TheBaxterBean: Marco Rubio Told To His Face He's 'Candidate Of Yesterday' For His Anti-Gay Bigotry http://t.co/a4EiuETTLf #GOPDebate htâ€¦\n",
            "  @carIisIe: None of them have made Trump look out of place or foolish yet. Think about that. When you're done crying, think about it agaiâ€¦\n",
            "  @akbarjenkins: Maybe the GOP just got Piven &amp; Cloward confused with Pinkard &amp; Bowden? \"She thinks I steal cars...\" @kevinbaker @KevinMKrâ€¦\n",
            "Had a great time watching the #GOPDebate last night http://t.co/qCmxMU8MLP\n",
            "  @JRehling: #GOPDebate Donald Trump says that he doesn't have time for political correctness. How does calling women \"fat pigs\" save him â€¦\n",
            "  @theonlyadult: This is the @POTUS we have now. One of the people on TV now might be the next one. RIP everything. #GOPDebate http://t.coâ€¦\n",
            "I think @realDonaldTrump was caught by surprise by that first question and was never able to recover his equilibrium. #GOPDebate\n",
            "  @kirahoffy: \"@FoxNews web stream and mobile app fail during #GOPDebateâ€ â€¦ Why am I not surprised? http://t.co/tkpEsoOEZT\n",
            "  @JohnKasich: John Kasich helped Ohioans create 350,000 new jobs. He can do it for America. #GOPDebate http://t.co/kBzfBJyp2C\n",
            "Please help the Maryknoll Sisters replace windows in their convent https://t.co/fDgXG3VV13 #Catholic #gofundme #trcot #GOPDebate\n",
            "Trump just said @JebBush is a true gentleman &amp; then they sta ed violently 69ing. #GOPDebate\n",
            "  @cameronesposito: Ugh will these guys ever shut up about how much they respect women? #GOPDebate\n",
            "  @SnarkyDemo: What did the #GOPDebate teach us about a future President Trump?  America probably wonâ€™t be safe, except if weâ€™re attacked â€¦\n",
            "  @AmyMek: \"God has blessed the Republican pa y with many great candidates, @TheDemocrats can't even find one\" - @marcorubio #GOPDebate\n",
            "  @JohnKasich: The miracle can happen to you. Grow oppo unity and grow jobs. #GOPDebate http://t.co/lNqhDgTUdK\n",
            "  @MattyIceAZ: Scott Walker can't even carry his own state. #GOPDebate\n",
            "  @XLNB: Black people, if you need anymore indication why Republicans hate us. Peep this. #GOPDebate http://t.co/Bh0ChsY5Eh\n",
            "  @Smethanie: Sure, God told me I should run, and the Tooth Fairy agreed and all the Teletubbies voted yes, so here I am. #GOPDebate\n",
            "  @palmaceiahome1: Trump should have told Megyn Kelly to go to HELL! #FoxNews #GOPDebate\n",
            "  @palmaceiahome1: Caller on the Rush Limbaugh show:\"I have lost all respect for Fox News.\" #FoxNews #GOPDebate\n",
            "  @realDonaldTrump: \"@stinger_inc: @realDonaldTrump  @megynkelly's behaviour at the #GOPDebate was astonishingly biased.\"\n",
            "Republicans Debate Economics: Rubio Wins, Bush Falters, Huckabee Exaggerates http://t.co/mOlloaQhWQ #GOPdebate #knowmorenotless @GPNAPLang\n",
            "  @JamesViser: Huh. Half of Clinton's charity went to...the Clintons! http://t.co/BVwRoSgWAL #copolitics #Hillary2016 #StopHillary #UniteBâ€¦\n",
            "  @kraig4u: #GOPDebate  The order was to \"take out Trump\", but I wonder if FOX News was the one who took the \"order\" seriously. @HeidiL_RN\n"
          ],
          "name": "stdout"
        }
      ]
    },
    {
      "cell_type": "code",
      "metadata": {
        "id": "QL3F_HtqfHXB"
      },
      "source": [
        "def scrub_words(text):    \r\n",
        "    # remove html markup\r\n",
        "    text=re.sub(\"(<.*?>)\",\"\",text)\r\n",
        "    \r\n",
        "    #remove non-ascii and digits\r\n",
        "    text=re.sub(\"(\\\\W|\\\\d)\",\" \",text)\r\n",
        "    \r\n",
        "    #remove whitespace\r\n",
        "    text=text.strip()\r\n",
        "    return text"
      ],
      "execution_count": 10,
      "outputs": []
    },
    {
      "cell_type": "code",
      "metadata": {
        "id": "Bp3odAN2hz4J"
      },
      "source": [
        "def noise_removal(set):\r\n",
        "\r\n",
        "    if set==1:\r\n",
        "      for i in range(0, 110):\r\n",
        "          raw_words= data['Comments'][i]\r\n",
        "          stemmed_words=[porter_stemmer.stem(word=word) for word in raw_words]\r\n",
        "          stemdf= pd.DataFrame({'raw_word': raw_words,'stemmed_word': stemmed_words})\r\n",
        "      print(stemdf)\r\n",
        "      return 1\r\n",
        "\r\n",
        "    else:\r\n",
        "      print(\"Skipped\")"
      ],
      "execution_count": 11,
      "outputs": []
    },
    {
      "cell_type": "code",
      "metadata": {
        "id": "pP5EfXZ4nW57"
      },
      "source": [
        "def stopWord_removal(set):\r\n",
        "  \r\n",
        "    stopwords=['this','that','and','a','we','it','to','is','of','up','need']\r\n",
        "    for i in range(0,110):\r\n",
        "      text= data['Comments'][i]\r\n",
        "      words=text.split(\" \")\r\n",
        "\r\n",
        "    shortlisted_words=[]\r\n",
        "\r\n",
        "#remove stop words\r\n",
        "    if set==1:\r\n",
        "      for w in words:\r\n",
        "          if w not in stopwords:\r\n",
        "              shortlisted_words.append(w)\r\n",
        "      else:\r\n",
        "          shortlisted_words.append(\"W\")\r\n",
        "      print(' '.join(shortlisted_words))\r\n",
        "      return 1\r\n",
        "\r\n",
        "    else:\r\n",
        "       return 0\r\n"
      ],
      "execution_count": 12,
      "outputs": []
    },
    {
      "cell_type": "code",
      "metadata": {
        "id": "hW1VMjPLrJV1"
      },
      "source": [
        "def lemme (set):\r\n",
        "\r\n",
        "  if set==1:\r\n",
        "    for i in range(0,110):\r\n",
        "      words= data[\"Columns\"][i]\r\n",
        "      lemmatized_words=[lemmatizer.lemmatize(word=word,pos='v') for word in words]\r\n",
        "      lemmatizeddf= pd.DataFrame({'original_word': words,'lemmatized_word': lemmatized_words})\r\n",
        "      lemmatizeddf=lemmatizeddf[['original_word','lemmatized_word']]\r\n",
        "    print(lemmatizeddf)\r\n",
        "    return 1"
      ],
      "execution_count": 13,
      "outputs": []
    },
    {
      "cell_type": "code",
      "metadata": {
        "colab": {
          "base_uri": "https://localhost:8080/"
        },
        "id": "wllZIVrUuJDY",
        "outputId": "a103c9f9-5e91-42f9-9c20-626386806def"
      },
      "source": [
        "#DriverCode\r\n",
        "\r\n",
        "remove_GOPDebate()\r\n",
        "to_lower()\r\n",
        "scrub_words(\"<html> hello </html>\")\r\n",
        "\r\n",
        "n=input(\"Enter 1 for performing  tokenization, 0 to skip\")\r\n",
        "tokenization(n)\r\n",
        "\r\n",
        "n=input(\"Enter 1 for performing stemming, 0 to skip\")\r\n",
        "stemming(n)\r\n",
        "\r\n",
        "n=input(\"Enter 1 for stop word removal, 0 to skip\")\r\n",
        "stopWord_removal(n)\r\n",
        "\r\n",
        "n= input(\"Enter 1 for performing lemmatization, 0 to skip\")\r\n",
        "lemme(n)\r\n",
        " \r\n",
        "n= input(\"Enter 1 for noise removal, 0 to skip\")\r\n",
        "noise_removal(n)"
      ],
      "execution_count": 16,
      "outputs": [
        {
          "output_type": "stream",
          "text": [
            "            Username                                           Comments\n",
            "0         I_Am_Kenzi    @NancyLeeGrahn: How did everyone feel about ...\n",
            "1      PeacefulQuest    @ScottWalker: Didn't catch the full   last n...\n",
            "2      PussssyCroook    @TJMShow: No mention of Tamir Rice and the  ...\n",
            "3    MattFromTexas31    @RobGeorge: That Carly Fiorina is trending -...\n",
            "4         sharonDay5    @DanScavino:   w/ @realDonaldTrump delivered...\n",
            "..               ...                                                ...\n",
            "105    Slim_Shady2o3    @palmaceiahome1: Caller on the Rush Limbaugh...\n",
            "106      VicSonaglia    @realDonaldTrump: \"@stinger_inc: @realDonald...\n",
            "107      paulrikmans  Republicans Debate Economics: Rubio Wins, Bush...\n",
            "108   LawrenceLange1    @JamesViser: Huh. Half of Clinton's charity ...\n",
            "109        1936power    @kraig4u:    The order was to \"take out Trum...\n",
            "\n",
            "[110 rows x 2 columns]\n",
            "   kraig u     the order was to  take out trump   but i wonder if fox news was the one who took the  order  seriously   heidil rn\n",
            "Enter 1 for performing  tokenization, 0 to skip0\n",
            "Skipped\n",
            "Enter 1 for performing stemming, 0 to skip0\n",
            "Skipped\n",
            "Enter 1 for stop word removal, 0 to skip0\n",
            "Enter 1 for performing lemmatization, 0 to skip1\n",
            "Enter 1 for noise removal, 0 to skip0\n",
            "Skipped\n"
          ],
          "name": "stdout"
        }
      ]
    }
  ]
}