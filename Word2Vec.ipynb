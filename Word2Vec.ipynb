{
  "nbformat": 4,
  "nbformat_minor": 0,
  "metadata": {
    "colab": {
      "name": "Word2Vec.ipynb",
      "provenance": []
    },
    "kernelspec": {
      "name": "python3",
      "display_name": "Python 3"
    },
    "language_info": {
      "name": "python"
    }
  },
  "cells": [
    {
      "cell_type": "code",
      "metadata": {
        "id": "adPPNAyTbrXm"
      },
      "source": [
        "import gensim"
      ],
      "execution_count": 1,
      "outputs": []
    },
    {
      "cell_type": "code",
      "metadata": {
        "colab": {
          "base_uri": "https://localhost:8080/"
        },
        "id": "EQi4d-PBbxdk",
        "outputId": "849f3d4a-f4dd-43de-edae-7483984fb9fa"
      },
      "source": [
        "from gensim.models import Word2Vec\n",
        "# define training data\n",
        "sentences = [['this', 'is', 'the', 'first', 'sentence', 'for', 'word2vec'],\n",
        "\t\t\t['this', 'is', 'the', 'second', 'sentence'],\n",
        "\t\t\t['yet', 'another', 'sentence'],\n",
        "\t\t\t['one', 'more', 'sentence'],\n",
        "\t\t\t['and', 'the', 'final', 'sentence']]\n",
        "# train model\n",
        "model = Word2Vec(sentences, min_count=1)\n",
        "# summarize the loaded model\n",
        "print(model)\n",
        "# summarize vocabulary\n",
        "words = list(model.wv.vocab)\n",
        "print(words)\n",
        "# access vector for one word\n",
        "print(model['sentence'])\n",
        "# save model\n",
        "model.save('model.bin')\n",
        "# load model\n",
        "new_model = Word2Vec.load('model.bin')\n",
        "print(new_model)\n"
      ],
      "execution_count": 2,
      "outputs": [
        {
          "output_type": "stream",
          "text": [
            "Word2Vec(vocab=14, size=100, alpha=0.025)\n",
            "['this', 'is', 'the', 'first', 'sentence', 'for', 'word2vec', 'second', 'yet', 'another', 'one', 'more', 'and', 'final']\n",
            "[ 3.1229083e-03 -4.1251256e-05 -2.7686681e-03 -5.3322595e-04\n",
            " -2.6842975e-03 -1.3644887e-03  1.6512127e-03  9.7970455e-04\n",
            "  1.0583727e-03  1.6853730e-03  4.2675440e-03  4.0504904e-03\n",
            " -4.7055581e-03  1.1765423e-03 -2.7891507e-03 -3.3222046e-03\n",
            " -4.0336912e-03 -4.3811547e-03 -1.4424478e-03 -4.1569211e-03\n",
            " -1.6131791e-03 -4.3250914e-03 -4.9342099e-03  3.2708249e-03\n",
            "  4.0150387e-03 -8.6897169e-04  8.9598523e-04 -3.1926602e-03\n",
            "  2.7875945e-03 -1.4755453e-03 -3.0834503e-03 -3.2708431e-03\n",
            "  3.0822649e-03 -1.2786450e-03  1.9139757e-04 -4.4668512e-03\n",
            "  3.0976846e-03  3.6658705e-03  3.7118760e-03 -2.7290971e-03\n",
            "  2.0688719e-03  1.9316223e-03 -1.6433226e-03 -1.2684003e-03\n",
            "  4.1009672e-03  4.0039322e-03  4.3915818e-03  8.4369734e-04\n",
            " -3.5606609e-03 -4.9262773e-03  1.2679294e-03 -2.4870804e-03\n",
            "  1.2655171e-04  2.7191876e-03 -4.1871443e-03 -3.2080708e-03\n",
            " -3.0237455e-03  2.5324165e-03 -4.4312743e-03  3.0949712e-03\n",
            " -1.3298545e-03 -2.2794102e-05  5.2054232e-04 -1.6427198e-03\n",
            " -2.2645092e-03 -3.5585382e-03  2.0991655e-03 -4.2844512e-03\n",
            "  4.1037304e-03  2.8671799e-03  5.3300268e-05  2.6633106e-03\n",
            "  8.6832116e-04  3.9583580e-03 -3.2371026e-03  4.0652379e-03\n",
            " -9.8620588e-04 -4.9895112e-04  1.0004349e-03  8.4470102e-04\n",
            " -2.0529970e-03 -2.0719091e-03 -2.7035552e-03  3.1320238e-03\n",
            "  3.3515492e-03 -3.1004476e-03 -1.7146870e-04  1.7220117e-03\n",
            "  3.1267414e-03 -7.4689736e-04  4.6752980e-03  1.2579060e-03\n",
            "  1.3962091e-03  4.4203764e-03  2.8937499e-03 -1.9509017e-03\n",
            "  5.2216137e-04  2.7401536e-03 -3.2837088e-03  2.9261985e-03]\n",
            "Word2Vec(vocab=14, size=100, alpha=0.025)\n"
          ],
          "name": "stdout"
        },
        {
          "output_type": "stream",
          "text": [
            "/usr/local/lib/python3.7/dist-packages/ipykernel_launcher.py:16: DeprecationWarning: Call to deprecated `__getitem__` (Method will be removed in 4.0.0, use self.wv.__getitem__() instead).\n",
            "  app.launch_new_instance()\n"
          ],
          "name": "stderr"
        }
      ]
    },
    {
      "cell_type": "code",
      "metadata": {
        "colab": {
          "base_uri": "https://localhost:8080/",
          "height": 318
        },
        "id": "srGKgBcEb7Al",
        "outputId": "34bc7e4d-ef4c-4551-fdd1-418ecd2b0c9f"
      },
      "source": [
        "\n",
        "from gensim.models import Word2Vec\n",
        "from sklearn.decomposition import PCA\n",
        "from matplotlib import pyplot\n",
        "# define training data\n",
        "sentences = [['this', 'is', 'the', 'first', 'sentence', 'for', 'word2vec'],\n",
        "\t\t\t['this', 'is', 'the', 'second', 'sentence'],\n",
        "\t\t\t['yet', 'another', 'sentence'],\n",
        "\t\t\t['one', 'more', 'sentence'],\n",
        "\t\t\t['and', 'the', 'final', 'sentence']]\n",
        "# train model\n",
        "model = Word2Vec(sentences, min_count=1)\n",
        "# fit a 2d PCA model to the vectors\n",
        "X = model[model.wv.vocab]\n",
        "pca = PCA(n_components=2)\n",
        "result = pca.fit_transform(X)\n",
        "# create a scatter plot of the projection\n",
        "pyplot.scatter(result[:, 0], result[:, 1])\n",
        "words = list(model.wv.vocab)\n",
        "for i, word in enumerate(words):\n",
        "\tpyplot.annotate(word, xy=(result[i, 0], result[i, 1]))\n",
        "pyplot.show()\n"
      ],
      "execution_count": 3,
      "outputs": [
        {
          "output_type": "stream",
          "text": [
            "/usr/local/lib/python3.7/dist-packages/ipykernel_launcher.py:14: DeprecationWarning: Call to deprecated `__getitem__` (Method will be removed in 4.0.0, use self.wv.__getitem__() instead).\n",
            "  \n"
          ],
          "name": "stderr"
        },
        {
          "output_type": "display_data",
          "data": {
            "image/png": "[encoded data removed]",
            "text/plain": [
              "<Figure size 432x288 with 1 Axes>"
            ]
          },
          "metadata": {
            "tags": [],
            "needs_background": "light"
          }
        }
      ]
    }
  ]
}