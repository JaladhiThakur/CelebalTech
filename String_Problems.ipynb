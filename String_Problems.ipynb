{
  "nbformat": 4,
  "nbformat_minor": 0,
  "metadata": {
    "colab": {
      "name": "String Problems.ipynb",
      "provenance": []
    },
    "kernelspec": {
      "name": "python3",
      "display_name": "Python 3"
    }
  },
  "cells": [
    {
      "cell_type": "code",
      "metadata": {
        "id": "uB_MdXZrXN7O"
      },
      "source": [
        "1. Write a Python program to get a string from a given string where all occurrences of its first char have been changed to '$', except the first char itself.\r\n",
        "Sample String : 'restart'\r\n",
        "Expected Result : 'resta$t'\r\n",
        "2. Write a Python program to count the occurrences of each word in a given sentence\r\n",
        "3. Write a Python function to convert a given string to all uppercase if it contains at least 2 uppercase characters in the first 4 characters.\r\n",
        "4. Write a Python program to remove existing indentation from all of the lines in a given text.\r\n",
        "5. Write a Python program to reverse a string.\r\n",
        "6. Write a Python program to strip a set of characters from a string."
      ],
      "execution_count": null,
      "outputs": []
    },
    {
      "cell_type": "markdown",
      "metadata": {
        "id": "g-EJ2EO30di1"
      },
      "source": [
        "### 1. Write a Python program to get a string from a given string where all occurrences of its first char have been changed to dollar except the first char itself. \r\n",
        "Sample String : 'restart'\r\n",
        "Expected Result : 'resta$t'"
      ]
    },
    {
      "cell_type": "code",
      "metadata": {
        "colab": {
          "base_uri": "https://localhost:8080/"
        },
        "id": "ka_oX1dB1Ce4",
        "outputId": "c1e88aca-53e2-4a98-e409-53b549d49d0d"
      },
      "source": [
        "str = input(\"Enter string :\")\r\n",
        "first = str[0]\r\n",
        "replaceBy = '$'\r\n",
        "\r\n",
        "finalString = str.replace(first,replaceBy).replace(replaceBy,first,1)\r\n",
        "print(finalString)\r\n"
      ],
      "execution_count": 6,
      "outputs": [
        {
          "output_type": "stream",
          "text": [
            "Enter string :restart\n",
            "resta$t\n"
          ],
          "name": "stdout"
        }
      ]
    },
    {
      "cell_type": "markdown",
      "metadata": {
        "id": "PfDpOfSx4b2L"
      },
      "source": [
        "### 2. Write a Python program to count the occurrences of each word in a given sentence"
      ]
    },
    {
      "cell_type": "code",
      "metadata": {
        "colab": {
          "base_uri": "https://localhost:8080/"
        },
        "id": "zDyPdJmp4lMy",
        "outputId": "de10062c-5528-403d-9555-b7ab2e4532cf"
      },
      "source": [
        "str = input(\"Enter statement:\")\r\n",
        "count = dict()\r\n",
        "words = str.split()\r\n",
        "\r\n",
        "for word in words:\r\n",
        "    if word in count:\r\n",
        "        count[word] += 1\r\n",
        "    else:\r\n",
        "        count[word] = 1\r\n",
        "\r\n",
        "print(count)"
      ],
      "execution_count": 10,
      "outputs": [
        {
          "output_type": "stream",
          "text": [
            "Enter statement:I wish to eat a mango from mango basket this summer\n",
            "{'I': 1, 'wish': 1, 'to': 1, 'eat': 1, 'a': 1, 'mango': 2, 'from': 1, 'basket': 1, 'this': 1, 'summer': 1}\n"
          ],
          "name": "stdout"
        }
      ]
    },
    {
      "cell_type": "markdown",
      "metadata": {
        "id": "lFjfo2Bh-Mqd"
      },
      "source": [
        "### 3. Write a Python function to convert a given string to all uppercase if it contains at least 2 uppercase characters in the first 4 characters"
      ]
    },
    {
      "cell_type": "code",
      "metadata": {
        "colab": {
          "base_uri": "https://localhost:8080/"
        },
        "id": "Jx4Geu7rFs6j",
        "outputId": "3043f607-d6fe-4e27-d2ce-f5c7fd93b5c0"
      },
      "source": [
        "str = input(\"Enter string:\")\r\n",
        "count = 0\r\n",
        "\r\n",
        "for letter in str[:4]: \r\n",
        "    if letter.upper() == letter:\r\n",
        "      count += 1\r\n",
        "    \r\n",
        "if count >= 2:\r\n",
        "  print(str.upper())\r\n",
        "else:\r\n",
        "  print(str)"
      ],
      "execution_count": 13,
      "outputs": [
        {
          "output_type": "stream",
          "text": [
            "Enter string:JalAdhi\n",
            "JALADHI\n"
          ],
          "name": "stdout"
        }
      ]
    },
    {
      "cell_type": "markdown",
      "metadata": {
        "id": "ICyp-iliGZ21"
      },
      "source": [
        "### 4. Write a Python program to remove existing indentation from all of the lines in a given text"
      ]
    },
    {
      "cell_type": "code",
      "metadata": {
        "colab": {
          "base_uri": "https://localhost:8080/"
        },
        "id": "CvZUwxr-NV0_",
        "outputId": "158e23d9-2590-476e-ecf4-6a0849d301d3"
      },
      "source": [
        "import textwrap\r\n",
        "text = input(\"Enter statement with indentation:\")\r\n",
        "outputText = textwrap.dedent(text)\r\n",
        "print(outputText)"
      ],
      "execution_count": 3,
      "outputs": [
        {
          "output_type": "stream",
          "text": [
            "Enter statement with indentation:Hey Today is friday\n",
            "Hey Today is friday\n"
          ],
          "name": "stdout"
        }
      ]
    },
    {
      "cell_type": "markdown",
      "metadata": {
        "id": "D-RmKDfMHKol"
      },
      "source": [
        "### 5. Write a Python program to reverse a string"
      ]
    },
    {
      "cell_type": "code",
      "metadata": {
        "colab": {
          "base_uri": "https://localhost:8080/"
        },
        "id": "9Nvw6cWhHRHQ",
        "outputId": "20ee6014-f317-4b44-c0fb-b680403ad333"
      },
      "source": [
        "str = input(\"Enter string:\")\r\n",
        "reverseString= \"\".join(reversed(str))\r\n",
        "\r\n",
        "print(reverseString)"
      ],
      "execution_count": 19,
      "outputs": [
        {
          "output_type": "stream",
          "text": [
            "Enter string:abc\n",
            "cba\n"
          ],
          "name": "stdout"
        }
      ]
    },
    {
      "cell_type": "markdown",
      "metadata": {
        "id": "VIDInK5aO8YR"
      },
      "source": [
        "### 6. Write a Python program to strip a set of characters from a string"
      ]
    },
    {
      "cell_type": "code",
      "metadata": {
        "colab": {
          "base_uri": "https://localhost:8080/"
        },
        "id": "m8CTPyH-R-H0",
        "outputId": "fe6f94bb-ac26-457b-d462-c14dc4a20bb7"
      },
      "source": [
        "def strip_chars(str, chars):\r\n",
        "    return \"\".join(c for c in str if c not in chars)\r\n",
        "\r\n",
        "str= input(\"Enter string:\")      \r\n",
        "print(strip_chars(str, \"aeiou\"))\r\n",
        "print()"
      ],
      "execution_count": 4,
      "outputs": [
        {
          "output_type": "stream",
          "text": [
            "Enter string:I am going to school\n",
            "I m gng t schl\n",
            "\n"
          ],
          "name": "stdout"
        }
      ]
    }
  ]
}